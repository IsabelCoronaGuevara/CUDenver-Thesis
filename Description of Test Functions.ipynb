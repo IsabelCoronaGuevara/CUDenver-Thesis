{
 "cells": [
  {
   "cell_type": "markdown",
   "id": "7ea310a4",
   "metadata": {},
   "source": [
    "# Ishigami Function\n",
    "\n",
    "\\begin{align*}\n",
    "Y = \\sin(x_1)+a\\sin^2(x_2)+bx_3^4\\sin(x_1)\n",
    "\\end{align*}\n",
    "\n",
    "where $x_i\\sim \\mathcal{U}(-\\pi,\\pi)$ for $i=1,2,3$."
   ]
  },
  {
   "cell_type": "code",
   "execution_count": null,
   "id": "a254a510",
   "metadata": {},
   "outputs": [],
   "source": []
  },
  {
   "cell_type": "markdown",
   "id": "fd831451",
   "metadata": {},
   "source": [
    "# Morris Function\n",
    "The morris function is given as\n",
    "\n",
    "$$\n",
    "Y = b_0 + \\sum_{i=1}^{20}b_i \\omega_i + \\sum_{i<j}^{20}b_{ij}\\omega_i\\omega_j + \\sum_{1<j<l}^{20}b_{ijl}\\omega_i\\omega_j\\omega_l + \\sum_{i<j<l<s}^{20}b_{ijls}\\omega_i\\omega_j\\omega_l\\omega_s\n",
    "$$\n",
    "where\n",
    "$$\n",
    "\\omega_i = \\left\\{\n",
    "        \\begin{array}{ll}\n",
    "            \\frac{2.2X_i}{X_i+0.1} - 1 & \\quad \\text{if } i=3,5,7 \\\\\n",
    "            2X_i - 1 & \\quad \\text{otherwise}\n",
    "        \\end{array}\n",
    "    \\right.\n",
    "$$\n",
    "The coefficients are given by\n",
    "\n",
    "* $X_i \\sim \\mathcal{U}(0,1)$ for $i=1,\\dots,20$\n",
    "* $b_i = 20$ for $i=1,\\dots, 10$\n",
    "* $b_{ij} = -15$ for $i,j=1,\\dots, 6 \\phantom{xx} i<j$\n",
    "* $b_{ijl} = -10$ for $i,j,l = 1,\\dots, 5 \\phantom{xx} i<j<l$\n",
    "* $b_{ijls} = 5$ for $i,j,l,s = 1,\\dots, 4 \\phantom{xx} i<j<l<s$\n",
    "\n",
    "The remaining coefficients are defined by\n",
    "\n",
    "* $b_0 = 0$\n",
    "* $b_i = (-1)^i$\n",
    "* $b_{ij} = (-1)^{i+j}$\n",
    "* 0 for all other"
   ]
  },
  {
   "cell_type": "code",
   "execution_count": null,
   "id": "e1635db5",
   "metadata": {},
   "outputs": [],
   "source": []
  },
  {
   "cell_type": "markdown",
   "id": "924a1aa7",
   "metadata": {},
   "source": [
    "# Example 3: Borehole Function\n",
    " \n",
    "\n",
    "$$\n",
    "f(x) = \\frac{2\\pi*T_u(H_u-H_l)}{\\ln(r/r_w)\\left(1+\\frac{2LT_u}{\\ln(r/r_w)r_w^2K_w}+\\frac{T_u}{T_l}\\right)}\n",
    "$$\n",
    "\n",
    "* $r_w \\sim \\mathcal{N}(0.1, 0.0161812)$\n",
    "* $r \\sim \\text{Lognormal}(7.71, 1.0056)$\n",
    "* $T_u \\sim \\mathcal{U}(63070, 115600)$\n",
    "* $H_u \\sim \\mathcal{U}(990, 1110)$\n",
    "* $T_l \\sim \\mathcal{U}(63.1, 116)$\n",
    "* $H_l \\sim \\mathcal{U}(700, 820)$\n",
    "* $L \\sim \\mathcal{U}(1120, 1680)$\n",
    "* $K_w \\sim \\mathcal{U}(9855, 12045)$"
   ]
  },
  {
   "cell_type": "code",
   "execution_count": null,
   "id": "14807c60",
   "metadata": {},
   "outputs": [],
   "source": []
  },
  {
   "cell_type": "markdown",
   "id": "b1dd5fd7",
   "metadata": {},
   "source": [
    "# Example 4: 1-dof Undamped Oscillator \n",
    "\n",
    "The performance function is\n",
    "\n",
    "$$\n",
    "G(X) = 3r-\\left| \\frac{2 F_1}{m\\omega_0^2}\\sin\\left( \\frac{\\omega_0^2t_1}{2} \\right) \\right|\n",
    "$$\n",
    "\n",
    "where $\\omega_0=\\sqrt{\\frac{c_1+c_2}{m}}$. The distribution of the random variables are as follow:\n",
    "\n",
    "\\begin{align*}\n",
    "m &\\sim \\text{LogNormal}(1, 0.15^2) && \\text{Mass} \\\\\n",
    "c_1 &\\sim \\text{LogNormal}(1, 0.2^2) && \\text{Stiffness of spring one} \\\\\n",
    "c_2 &\\sim \\text{LogNormal}(0.1, 0.02^2) && \\text{Stiffness of spring two} \\\\\n",
    "r &\\sim \\text{LogNormal}(0.5, 0.1^2) && \\text{Displacement yielded by one of the springs} \\\\\n",
    "F_1 &\\sim \\text{LogNormal}(1, 0.2^2) && \\text{Exciting force} \\\\\n",
    "t_1 &\\sim \\text{LogNormal}(1, 0.1^2) && \\text{Excitation time} \n",
    "\\end{align*}"
   ]
  },
  {
   "cell_type": "code",
   "execution_count": null,
   "id": "54b58472",
   "metadata": {},
   "outputs": [],
   "source": []
  },
  {
   "cell_type": "markdown",
   "id": "6c61f346",
   "metadata": {},
   "source": [
    "# Example 5: Cantilever Tube Structure\n",
    "\n",
    "A **cantilever** is a rigid structural element that extends horizontally and is supported at only one end. The structure is subjected to three random external forces $(F_1, F_2, P)$ and a random torque $T$. The structure fails when the maximum Von Mises stress $\\sigma_{max}$ at the fixed end of the tube is greater than the yield strength $R$. The limit state function of the structure is expressed as:\n",
    "\n",
    "$$\n",
    "G = R-\\sigma_{max} = R-\\sqrt{\\sigma_x^2+3\\tau^2_{zx}}\n",
    "$$\n",
    "\n",
    "where \n",
    "\n",
    "\\begin{align*}\n",
    "\\sigma_x &= \\frac{F_1\\sin\\theta_1+F_2\\sin\\theta_2+P}{A} + \\frac{Md}{2I} \\\\\n",
    "M &= F_1\\cos\\theta_1L_1 + F_2\\cos\\theta_2L_2 \\\\\n",
    "A &= \\frac{\\pi}{4}\\left[d^2 - (d-2h)^2\\right] \\\\\n",
    "I &= \\frac{\\pi}{64}\\left[d^4-(d-2h)^4\\right] \\\\\n",
    "\\tau_{zx} &= \\frac{Td}{4I}\n",
    "\\end{align*}\n",
    "\n",
    "The **limit state function** $G(X)$ defines a failure criterion that is a function of all random variables $X$. Failure occurs when the load $L$ exceeds the capacity $R$ or when $G(X)<0$. The parameters have the following values:\n",
    "\n",
    "\\begin{align*}\n",
    "L_1 &= 60 && \\text{(mm)} \\\\\n",
    "L_2 &= 120 && \\text{(mm)} \\\\\n",
    "\\theta_1 &= 10^{\\circ} = \\frac{\\pi}{18} \\\\\n",
    "\\theta_2 &= 5^{\\circ} = \\frac{\\pi}{36} \\\\\n",
    "d &\\sim \\mathcal{N}(42, 0.4998^2) && \\text{(mm)} \\\\\n",
    "h &\\sim \\mathcal{N}(5, 0.1^2) && \\text{(mm)} \\\\\n",
    "R_0 &\\sim \\mathcal{N}(560, 56^2) && \\text{(MPa)} \\\\\n",
    "F_1 &\\sim \\mathcal{N}(1800, 180^2) && \\text{(N)} \\\\\n",
    "F_2 &\\sim \\mathcal{N}(1800, 180^2) && \\text{(N)} \\\\\n",
    "P &\\sim \\mathcal{N}(1000, 100^2) && \\text{(N)} \\\\\n",
    "T &\\sim \\mathcal{N}(1900, 190^2) && \\text{(Nm)} \n",
    "\\end{align*}"
   ]
  },
  {
   "cell_type": "code",
   "execution_count": null,
   "id": "a94db694",
   "metadata": {},
   "outputs": [],
   "source": []
  },
  {
   "cell_type": "markdown",
   "id": "bcafcbc8",
   "metadata": {},
   "source": [
    "# Example 6: Sobol' function\n",
    "\n",
    "The Sobol function is given by\n",
    "\n",
    "$$\n",
    "Y = \\prod_{i=1}^d\\frac{|4\\xi_i - 2| + a_i}{1 + a_i}\n",
    "$$\n",
    "\n",
    "where $\\xi_i$ are independent random variables uniformly distributed over $[0,1]$ and $a_i$ are the constants. \n"
   ]
  },
  {
   "cell_type": "code",
   "execution_count": null,
   "id": "b983d74f",
   "metadata": {},
   "outputs": [],
   "source": []
  }
 ],
 "metadata": {
  "@webio": {
   "lastCommId": null,
   "lastKernelId": null
  },
  "kernelspec": {
   "display_name": "Python 3 (ipykernel)",
   "language": "python",
   "name": "python3"
  },
  "language_info": {
   "codemirror_mode": {
    "name": "ipython",
    "version": 3
   },
   "file_extension": ".py",
   "mimetype": "text/x-python",
   "name": "python",
   "nbconvert_exporter": "python",
   "pygments_lexer": "ipython3",
   "version": "3.11.3"
  }
 },
 "nbformat": 4,
 "nbformat_minor": 5
}
