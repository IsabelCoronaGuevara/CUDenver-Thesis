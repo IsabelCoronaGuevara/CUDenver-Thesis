{
 "cells": [
  {
   "cell_type": "code",
   "execution_count": 1,
   "id": "d36d8ce2",
   "metadata": {},
   "outputs": [],
   "source": [
    "from sklearn.linear_model import LinearRegression\n",
    "from sklearn.linear_model import Ridge\n",
    "from sklearn.preprocessing import PolynomialFeatures\n",
    "from matplotlib.pylab import rcParams\n",
    "from scipy.integrate import solve_ivp\n",
    "import math\n",
    "from scipy.special import hermitenorm as hermite\n",
    "import scipy.integrate as integrate\n",
    "from sklearn.linear_model import LinearRegression\n",
    "from numpy.polynomial.hermite_e import hermeval, hermegauss\n",
    "from itertools import product\n",
    "from numpy.polynomial.legendre import legval, leggauss\n",
    "from scipy.special import legendre \n",
    "import random"
   ]
  },
  {
   "cell_type": "code",
   "execution_count": 22,
   "id": "0991f68f",
   "metadata": {},
   "outputs": [],
   "source": [
    "import numpy as np\n",
    "import matplotlib.pyplot as plt\n",
    "from NormalScoreTransform import *\n",
    "from aPCE import *\n",
    "import seaborn as sns"
   ]
  },
  {
   "cell_type": "markdown",
   "id": "b07471f4",
   "metadata": {},
   "source": [
    "## Example from Oladyshkin Paper"
   ]
  },
  {
   "cell_type": "code",
   "execution_count": 23,
   "id": "00d6e06c",
   "metadata": {},
   "outputs": [],
   "source": [
    "N = 500 # Sample size\n",
    "N_mc = 10000\n",
    "d = 1  # d --> number of random variables\n",
    "p = 8 # p --> degree of PCE polynomial\n",
    "n_quad = 10"
   ]
  },
  {
   "cell_type": "markdown",
   "id": "43ae089e",
   "metadata": {},
   "source": [
    "### Creating Data"
   ]
  },
  {
   "cell_type": "code",
   "execution_count": 24,
   "id": "b0ae5071",
   "metadata": {},
   "outputs": [],
   "source": [
    "# Mixture of Gaussian and log-Gaussian\n",
    "z = np.random.uniform(0, 1, N) < 0.6 # assume mixture coefficients are (0.8,0.2)\n",
    "dat = np.zeros(N)\n",
    "for i in range(N):\n",
    "    if z[i] == True:\n",
    "        dat[i] = np.random.normal(1.5, 0.5, 1)\n",
    "    else:\n",
    "        dat[i] = np.random.lognormal(1, 0.25, 1)\n",
    "        \n",
    "noise = np.random.normal(0, 0.01, N) \n",
    "dat += noise\n",
    "\n",
    "dat = np.c_[dat]"
   ]
  },
  {
   "cell_type": "code",
   "execution_count": 25,
   "id": "4e396f86",
   "metadata": {},
   "outputs": [],
   "source": [
    "# Creating Test Data\n",
    "z = np.random.uniform(0, 1, N) < 0.6 # assume mixture coefficients are (0.8,0.2)\n",
    "dat2 = np.zeros(N)\n",
    "for i in range(N):\n",
    "    if z[i] == True:\n",
    "        dat2[i] = np.random.normal(1.5, 0.5, 1)\n",
    "    else:\n",
    "        dat2[i] = np.random.lognormal(1, 0.25, 1)\n",
    "        \n",
    "noise = np.random.normal(0, 0.01, N) \n",
    "dat2 += noise"
   ]
  },
  {
   "cell_type": "code",
   "execution_count": 28,
   "id": "ea65192e",
   "metadata": {},
   "outputs": [],
   "source": [
    "### PCE Data\n",
    "### Transforming data to be normal\n",
    "\n",
    "nst = NormalScoreTransform(\n",
    "    dat, np.ones_like(dat),\n",
    "    0, 30,\n",
    "    0, 1,\n",
    "    15, 1)\n",
    "nst.create_transform_func()\n",
    "\n",
    "dat_pce = nst.transform(dat)"
   ]
  },
  {
   "cell_type": "code",
   "execution_count": 29,
   "id": "a6ff078c",
   "metadata": {},
   "outputs": [],
   "source": [
    "### MC Data\n",
    "\n",
    "z_mc = np.random.uniform(0, 1, N_mc) < 0.6 # assume mixture coefficients are (0.8,0.2)\n",
    "dat_mc = np.zeros(N_mc)\n",
    "for i in range(N_mc):\n",
    "    if z_mc[i] == True:\n",
    "        dat_mc[i] = np.random.normal(1.5, 0.5, 1)\n",
    "    else:\n",
    "        dat_mc[i] = np.random.lognormal(1, 0.25, 1)"
   ]
  },
  {
   "cell_type": "code",
   "execution_count": 30,
   "id": "5cbb6077",
   "metadata": {},
   "outputs": [
    {
     "data": {
      "text/plain": [
       "0.18204126881974708"
      ]
     },
     "execution_count": 30,
     "metadata": {},
     "output_type": "execute_result"
    }
   ],
   "source": [
    "dat_mc = np.exp(-dat_mc*1)\n",
    "y_mc_var = np.var(np.exp(-dat_mc))\n",
    "\n",
    "y_mc = np.mean(dat_mc)\n",
    "y_mc"
   ]
  },
  {
   "cell_type": "markdown",
   "id": "795bc5bd",
   "metadata": {},
   "source": [
    "### aPCE"
   ]
  },
  {
   "cell_type": "code",
   "execution_count": 31,
   "id": "bc9f6880",
   "metadata": {},
   "outputs": [],
   "source": [
    "def exp(X):\n",
    "    return np.c_[np.exp(-X)]\n",
    "\n",
    "mod = aPCE(dat, p, exp)\n",
    "pce_coef_Quad = mod.Quadrature(n_quad)\n",
    "pce_coef_LR = mod.LR()"
   ]
  },
  {
   "cell_type": "code",
   "execution_count": 32,
   "id": "f4899e14",
   "metadata": {},
   "outputs": [],
   "source": [
    "def evaluate_aPCE_exp(pce_coef, d, max_deg, x):\n",
    "    \"\"\"\n",
    "    evaluate pce expansion with maximum degree max_deg at the points x\n",
    "    for Black-Scholes\n",
    "    input:\n",
    "    pce_coef: 1d array, the pce coefficients\n",
    "    d: int, the number of parameter\n",
    "    max_deg: int, the maximum degree\n",
    "    x: 2d array, the points where the pce is evaluated. x.shape[1] = 3\n",
    "    return\n",
    "    val: 1d array of the same size as x.shape[0]\n",
    "    \"\"\"\n",
    "    pce_index = mod.multivariate_pce_index(d, max_deg)\n",
    "    val = np.zeros(x.shape[0])\n",
    "    for i in range(pce_index.shape[0]):    \n",
    "        val += pce_coef[i]*\\\n",
    "               (mod.Pol_eval(mod.Create_Orthonormal_Polynomials('Quadrature')[0][0][pce_index[i][0]], x)).reshape(N)\n",
    "    return val"
   ]
  },
  {
   "cell_type": "code",
   "execution_count": 33,
   "id": "9b275cb0",
   "metadata": {},
   "outputs": [],
   "source": [
    "def evaluate_aPCE_exp2(pce_coef, d, max_deg, x):\n",
    "    \"\"\"\n",
    "    evaluate pce expansion with maximum degree max_deg at the points x\n",
    "    for Black-Scholes\n",
    "    input:\n",
    "    pce_coef: 1d array, the pce coefficients\n",
    "    d: int, the number of parameter\n",
    "    max_deg: int, the maximum degree\n",
    "    x: 2d array, the points where the pce is evaluated. x.shape[1] = 3\n",
    "    return\n",
    "    val: 1d array of the same size as x.shape[0]\n",
    "    \"\"\"\n",
    "    pce_index = mod.multivariate_pce_index(d, max_deg)\n",
    "    val = np.zeros(x.shape[0])\n",
    "    for i in range(pce_index.shape[0]):    \n",
    "        val += pce_coef[i]*\\\n",
    "               (mod.Pol_eval(mod.Create_Orthonormal_Polynomials('LR')[0][pce_index[i][0]], x)).reshape(N)\n",
    "    return val"
   ]
  },
  {
   "cell_type": "code",
   "execution_count": 34,
   "id": "b99faa54",
   "metadata": {},
   "outputs": [
    {
     "data": {
      "text/plain": [
       "0.18676380126599956"
      ]
     },
     "execution_count": 34,
     "metadata": {},
     "output_type": "execute_result"
    }
   ],
   "source": [
    "np.mean(evaluate_aPCE_exp(pce_coef_Quad, d, p, dat2))"
   ]
  },
  {
   "cell_type": "code",
   "execution_count": 35,
   "id": "cafadc49",
   "metadata": {},
   "outputs": [],
   "source": [
    "y_aPCE_Quad = evaluate_aPCE_exp(pce_coef_Quad, d, p, dat2)\n",
    "y_aPCE_LR = evaluate_aPCE_exp2(pce_coef_LR, d, p, dat2)\n",
    "\n",
    "y_true = exp(dat2)"
   ]
  },
  {
   "cell_type": "markdown",
   "id": "a13b1202",
   "metadata": {},
   "source": [
    "### PCE"
   ]
  },
  {
   "cell_type": "code",
   "execution_count": null,
   "id": "96c4208f",
   "metadata": {},
   "outputs": [],
   "source": []
  },
  {
   "cell_type": "code",
   "execution_count": null,
   "id": "14f0e8c2",
   "metadata": {},
   "outputs": [],
   "source": []
  },
  {
   "cell_type": "code",
   "execution_count": null,
   "id": "dfb366bb",
   "metadata": {},
   "outputs": [],
   "source": []
  },
  {
   "cell_type": "code",
   "execution_count": null,
   "id": "22c623b7",
   "metadata": {},
   "outputs": [],
   "source": []
  },
  {
   "cell_type": "code",
   "execution_count": 36,
   "id": "b80c869c",
   "metadata": {},
   "outputs": [
    {
     "data": {
      "image/png": "[encoded data removed]",
      "text/plain": [
       "<Figure size 640x480 with 1 Axes>"
      ]
     },
     "metadata": {},
     "output_type": "display_data"
    }
   ],
   "source": [
    "sns.kdeplot(y_aPCE_Quad, color='b', label='aPCE order 8, Quadrature order 10')\n",
    "sns.kdeplot(y_aPCE_LR, color='g', label='aPCE order 8, LR')\n",
    "sns.kdeplot(y_true.reshape(N), color='r', label='exp(-x)')\n",
    "plt.legend();"
   ]
  },
  {
   "cell_type": "markdown",
   "id": "dff1995c",
   "metadata": {},
   "source": [
    "## Ishigami Function"
   ]
  },
  {
   "cell_type": "code",
   "execution_count": 11,
   "id": "59323f33",
   "metadata": {},
   "outputs": [],
   "source": [
    "N = 500 # Sample size\n",
    "d = 3  # d --> number of random variables\n",
    "p = 8 # p --> degree of PCE polynomial\n",
    "n_quad = 10"
   ]
  },
  {
   "cell_type": "markdown",
   "id": "dcc2c003",
   "metadata": {},
   "source": [
    "### Data"
   ]
  },
  {
   "cell_type": "code",
   "execution_count": 12,
   "id": "23093843",
   "metadata": {},
   "outputs": [],
   "source": [
    "Z = np.random.uniform(-np.pi,np.pi, size=(N, d))\n",
    "Z_test = np.random.uniform(-np.pi,np.pi, size=(N, 3))"
   ]
  },
  {
   "cell_type": "markdown",
   "id": "d120d3ec",
   "metadata": {},
   "source": [
    "### aPCE"
   ]
  },
  {
   "cell_type": "code",
   "execution_count": 13,
   "id": "78948b9f",
   "metadata": {},
   "outputs": [],
   "source": [
    "def Ishigami_Function(X):\n",
    "    return np.c_[np.sin(X[:,0]) + 7*(np.sin(X[:,1]))**2 + 0.1*X[:,2]**4*np.sin(X[:,0])]"
   ]
  },
  {
   "cell_type": "code",
   "execution_count": 14,
   "id": "7b6916c2",
   "metadata": {},
   "outputs": [],
   "source": [
    "mod = aPCE(Z, p, Ishigami_Function)\n",
    "pce_coef_Quad = mod.Quadrature(n_quad)\n",
    "pce_coef_LR = mod.LR()"
   ]
  },
  {
   "cell_type": "code",
   "execution_count": 15,
   "id": "38c8cb25",
   "metadata": {},
   "outputs": [],
   "source": [
    "def evaluate_aPCE_Ishigami(pce_coef, d, max_deg, x):\n",
    "    \"\"\"\n",
    "    evaluate pce expansion with maximum degree max_deg at the points x\n",
    "    for Black-Scholes\n",
    "    input:\n",
    "    pce_coef: 1d array, the pce coefficients\n",
    "    d: int, the number of parameter\n",
    "    max_deg: int, the maximum degree\n",
    "    x: 2d array, the points where the pce is evaluated. x.shape[1] = 3\n",
    "    return\n",
    "    val: 1d array of the same size as x.shape[0]\n",
    "    \"\"\"\n",
    "    pce_index = mod.multivariate_pce_index(d, max_deg)\n",
    "    val = np.zeros(x.shape[0])\n",
    "    for i in range(pce_index.shape[0]):    \n",
    "        val += pce_coef[i]*\\\n",
    "               mod.Pol_eval(mod.Create_Orthonormal_Polynomials('Quadrature')[0][0][pce_index[i,0],:], x[:,0])*\\\n",
    "               mod.Pol_eval(mod.Create_Orthonormal_Polynomials('Quadrature')[0][1][pce_index[i,1],:], x[:,1])*\\\n",
    "               mod.Pol_eval(mod.Create_Orthonormal_Polynomials('Quadrature')[0][2][pce_index[i,2],:], x[:,2])\n",
    "    return val"
   ]
  },
  {
   "cell_type": "code",
   "execution_count": 16,
   "id": "4a127eb6",
   "metadata": {},
   "outputs": [],
   "source": [
    "def evaluate_aPCE_Ishigami2(pce_coef, d, max_deg, x):\n",
    "    \"\"\"\n",
    "    evaluate pce expansion with maximum degree max_deg at the points x\n",
    "    for Black-Scholes\n",
    "    input:\n",
    "    pce_coef: 1d array, the pce coefficients\n",
    "    d: int, the number of parameter\n",
    "    max_deg: int, the maximum degree\n",
    "    x: 2d array, the points where the pce is evaluated. x.shape[1] = 3\n",
    "    return\n",
    "    val: 1d array of the same size as x.shape[0]\n",
    "    \"\"\"\n",
    "    pce_index = mod.multivariate_pce_index(d, max_deg)\n",
    "    val = np.zeros(x.shape[0])\n",
    "    for i in range(pce_index.shape[0]):    \n",
    "        val += pce_coef[i]*\\\n",
    "               mod.Pol_eval(mod.Create_Orthonormal_Polynomials('LR')[0][pce_index[i,0],:], x[:,0])*\\\n",
    "               mod.Pol_eval(mod.Create_Orthonormal_Polynomials('LR')[1][pce_index[i,1],:],x[:,1])*\\\n",
    "               mod.Pol_eval(mod.Create_Orthonormal_Polynomials('LR')[2][pce_index[i,2],:], x[:,2])\n",
    "    return val"
   ]
  },
  {
   "cell_type": "code",
   "execution_count": 18,
   "id": "dabf3df2",
   "metadata": {},
   "outputs": [],
   "source": [
    "y_aPCE_Quad = evaluate_aPCE_Ishigami(pce_coef_Quad, d, p, Z_test)\n",
    "y_aPCE_LR = evaluate_aPCE_Ishigami2(pce_coef_LR, d, p, Z_test)\n",
    "\n",
    "y_true = Ishigami_Function(Z_test)"
   ]
  },
  {
   "cell_type": "code",
   "execution_count": 20,
   "id": "c33827f3",
   "metadata": {},
   "outputs": [
    {
     "data": {
      "text/plain": [
       "3.245323615481947"
      ]
     },
     "execution_count": 20,
     "metadata": {},
     "output_type": "execute_result"
    }
   ],
   "source": [
    "np.mean(evaluate_aPCE_Ishigami(pce_coef_Quad, d, p, Z_test))"
   ]
  },
  {
   "cell_type": "code",
   "execution_count": 21,
   "id": "9c5090d9",
   "metadata": {},
   "outputs": [
    {
     "data": {
      "text/plain": [
       "3.246207238155371"
      ]
     },
     "execution_count": 21,
     "metadata": {},
     "output_type": "execute_result"
    }
   ],
   "source": [
    "np.mean(y_true)"
   ]
  },
  {
   "cell_type": "markdown",
   "id": "bf8045cb",
   "metadata": {},
   "source": [
    "### PCE"
   ]
  },
  {
   "cell_type": "code",
   "execution_count": null,
   "id": "b2beb01b",
   "metadata": {},
   "outputs": [],
   "source": []
  },
  {
   "cell_type": "code",
   "execution_count": null,
   "id": "9aed34cd",
   "metadata": {},
   "outputs": [],
   "source": []
  },
  {
   "cell_type": "code",
   "execution_count": null,
   "id": "b27a92b6",
   "metadata": {},
   "outputs": [],
   "source": []
  },
  {
   "cell_type": "code",
   "execution_count": null,
   "id": "35ef210b",
   "metadata": {},
   "outputs": [],
   "source": []
  },
  {
   "cell_type": "code",
   "execution_count": 19,
   "id": "e6c16ebc",
   "metadata": {},
   "outputs": [
    {
     "data": {
      "image/png": "[encoded data removed]",
      "text/plain": [
       "<Figure size 640x480 with 1 Axes>"
      ]
     },
     "metadata": {},
     "output_type": "display_data"
    }
   ],
   "source": [
    "sns.kdeplot(y_aPCE_Quad, color='b', label='aPCE order 8, Quadrature order 10')\n",
    "sns.kdeplot(y_aPCE_LR, color='g', label='aPCE order 8, LR')\n",
    "sns.kdeplot(y_true.reshape(N), color='r', label='Ishigmai Function')\n",
    "plt.legend();"
   ]
  },
  {
   "cell_type": "markdown",
   "id": "6eeacb60",
   "metadata": {},
   "source": [
    "## PCE"
   ]
  },
  {
   "cell_type": "code",
   "execution_count": null,
   "id": "97093330",
   "metadata": {},
   "outputs": [],
   "source": [
    "\"\"\"\n",
    "The module contains ...\n",
    "Add description\n",
    "\n",
    "__author__ = 'Isabel Corona Guevara'\n",
    "__version__ = '0.1'\n",
    "\"\"\"\n",
    "\n",
    "import numpy as np\n",
    "from sklearn.linear_model import LinearRegression\n",
    "import math\n",
    "from itertools import product\n",
    "\n",
    "class PCE(object):\n",
    "    \"\"\"\n",
    "    Description Here\n",
    "    \n",
    "    \"\"\"\n",
    "\n",
    "    def __init__(self, data, p, model):\n",
    "        \"\"\"\n",
    "        Implement the initializer of aPCE class.\n",
    "\n",
    "        data: array, is of size (n_sample, n_param)\n",
    "        p: integer, the degree of the PCE\n",
    "        model: function, the model, the model takes a numpy array\n",
    "               of size (n_sample, n_param) as input and the output\n",
    "               is of size (n_sample, n_outputs)\n",
    "        method: string, method used to calculate the coefficients of the PCE\n",
    "                choices from 'LR' (Linear Regression) and 'Quadrature'\n",
    "        q: Number of Quadrature points used for method = \"Quadrature\"\n",
    "\n",
    "        \"\"\"\n",
    "        \n",
    "        self.data = data\n",
    "        self.p = p\n",
    "        self.model = model\n",
    "        self.N = data.shape[0] # sample size\n",
    "        self.d = data.shape[1] # number of parameters\n",
    "        self.n = int(math.factorial(self.d + p)/(math.factorial(self.d)*math.factorial(p))) # number of terms in PCE\n",
    "       \n",
    "    \n",
    "    ## Checking Polynomials we created are orthogonal\n",
    "    def Pol_eval(self, coeff, x):\n",
    "        \"\"\"\n",
    "        \n",
    "        \"\"\"\n",
    "        \n",
    "        deg = coeff.shape[0]\n",
    "        val = 0\n",
    "        for i in range(deg):\n",
    "            val += coeff[i]*x**i\n",
    "\n",
    "        return val\n",
    "\n",
    "    def Int_eval(self, coeff1, coeff2, dat):\n",
    "        \"\"\"\n",
    "        \n",
    "        \"\"\"\n",
    "        \n",
    "        s = np.mean(self.Pol_eval(coeff1, dat)*self.Pol_eval(coeff2, dat))\n",
    "        \n",
    "        return s\n",
    "    \n",
    "    def Create_Orthonormal_Polynomials(self, method, n_quad = 10):\n",
    "        \"\"\"\n",
    "        \n",
    "        \"\"\"\n",
    "        \n",
    "        P = []\n",
    "        P_quad = []\n",
    "        \n",
    "        if method == \"LR\":\n",
    "        \n",
    "            for j in range(self.d):\n",
    "                # Creating Orthogonal Polynomials\n",
    "                P_temp = np.zeros((self.p+1, self.p+1))\n",
    "\n",
    "                P_temp[0,0] = 1\n",
    "\n",
    "                mu = np.zeros(2*self.p) \n",
    "                for i in range(2*self.p): \n",
    "                    mu[i] = np.mean(self.data[:,j]**i)\n",
    "\n",
    "                mu_mat = np.zeros((self.p, self.p+1))\n",
    "                for i in range(self.p):\n",
    "                    mu_mat[i,:] = mu[i:(self.p+1+i)]\n",
    "\n",
    "                for i in range(1,self.p+1):\n",
    "                    A = np.zeros((i+1, i+1))\n",
    "                    A[-1,-1] = 1\n",
    "                    A[0:i,:] = mu_mat[0:i, 0:i+1]\n",
    "                    b = A[-1]\n",
    "                    a = np.zeros(self.p+1)\n",
    "                    a[0:i+1] = np.linalg.inv(A)@b\n",
    "                    P_temp[i, :] = a.transpose()\n",
    "\n",
    "                # Normalizing Polynomials\n",
    "                P_temp_norm = np.zeros((self.p+1, self.p+1))\n",
    "                for i in range(self.p+1):\n",
    "                    P_temp_norm[i,:] = P_temp[i,:]/np.sqrt(self.Int_eval(P_temp[i,:], P_temp[i,:], self.data[:,j]))\n",
    "                \n",
    "                \n",
    "                # Adding Matrix with Polynomial Coefficients to P\n",
    "                P.append(P_temp_norm)\n",
    "                \n",
    "            return P\n",
    "                \n",
    "        if method == \"Quadrature\":\n",
    "                    \n",
    "            for j in range(self.d):\n",
    "                # Creating Orthogonal Polynomials of size n_quad\n",
    "                P_quad_temp = np.zeros((n_quad+1, n_quad+1))\n",
    "\n",
    "                P_quad_temp[0,0] = 1\n",
    "\n",
    "                mu = np.zeros(2*n_quad) \n",
    "                for i in range(2*n_quad): \n",
    "                    mu[i] = np.mean(self.data[:,j]**i)\n",
    "\n",
    "                mu_mat = np.zeros((n_quad, n_quad+1))\n",
    "                for i in range(n_quad):\n",
    "                    mu_mat[i,:] = mu[i:(n_quad+1+i)]\n",
    "\n",
    "                for i in range(1, n_quad+1):\n",
    "                    A = np.zeros((i+1, i+1))\n",
    "                    A[-1,-1] = 1\n",
    "                    A[0:i,:] = mu_mat[0:i, 0:i+1]\n",
    "                    b = A[-1]\n",
    "                    a = np.zeros(n_quad+1)\n",
    "                    a[0:i+1] = np.linalg.inv(A)@b\n",
    "                    P_quad_temp[i, :] = a.transpose()\n",
    "\n",
    "                # Normalizing Polynomials\n",
    "                P_quad_temp_norm = np.zeros((n_quad+1, n_quad+1))\n",
    "                for i in range(n_quad+1):\n",
    "                    P_quad_temp_norm[i,:] = P_quad_temp[i,:]/np.sqrt(self.Int_eval(P_quad_temp[i,:], P_quad_temp[i,:], self.data[:,j]))\n",
    "\n",
    "                # Creating matrix of polynomial coefficients of size p+1\n",
    "                P_temp_norm = P_quad_temp_norm[0:self.p+1, 0:self.p+1]\n",
    "                \n",
    "                # Adding Matrix with Polynomial Coefficients to P\n",
    "                P.append(P_temp_norm)\n",
    "                P_quad.append(P_quad_temp_norm)\n",
    "            \n",
    "        \n",
    "            return P, P_quad\n",
    "    \n",
    "    \n",
    "    def multivariate_pce_index(self, d, max_deg):\n",
    "        \"\"\"\n",
    "        Generate all the d-dimensional polynomial indices with the \n",
    "        constraint that the sum of the indexes is <= max_deg\n",
    "\n",
    "        input:\n",
    "        d: int, number of random variables\n",
    "        max_deg: int, the max degree allowed\n",
    "\n",
    "        return: \n",
    "        2d array with shape[1] equal to d, the multivariate indices\n",
    "        \"\"\"\n",
    "        maxRange = max_deg*np.ones(d, dtype = 'int')\n",
    "        index = np.array([i for i in product(*(range(i + 1) for i in maxRange)) if sum(i) <= max_deg])\n",
    "        return index\n",
    "    \n",
    "    def multivariate_pce_index_quad(self, d, max_deg):\n",
    "        \"\"\"\n",
    "        Generate all the d-dimensional polynomial indices with the \n",
    "        constraint that the sum of the indexes is <= max_deg\n",
    "\n",
    "        input:\n",
    "        d: int, number of random variables\n",
    "        max_deg: int, the max degree allowed\n",
    "\n",
    "        return: \n",
    "        2d array with shape[1] equal to d, the multivariate indices\n",
    "        \"\"\"\n",
    "        maxRange = max_deg*np.ones(d, dtype = 'int')\n",
    "        index = np.array([i for i in product(*(range(i + 1) for i in maxRange)) if max(i) <= max_deg])\n",
    "        return index\n",
    "    \n",
    "    \n",
    "    def Quadrature(self, n_quad = 10):\n",
    "        \"\"\"\n",
    "        Compute the pce coefficients of the Ishigami Function\n",
    "        input:\n",
    "        d: int, number of parameters\n",
    "        max_deg: int, the max degree so that individual degrees\n",
    "                 are not above it\n",
    "        n_quad: int, number of quadrature points\n",
    "        return:\n",
    "        1d array, PCE coefficients\n",
    "        \"\"\"\n",
    "        pce_index = self.multivariate_pce_index(self.d, self.p)\n",
    "        pce_coef = np.zeros(pce_index.shape[0])\n",
    "\n",
    "        P = self.Create_Orthonormal_Polynomials('Quadrature', n_quad)[0]\n",
    "        P_quad = self.Create_Orthonormal_Polynomials('Quadrature', n_quad)[1]\n",
    "\n",
    "        w = []\n",
    "        nodes = []\n",
    "\n",
    "        for j in range(self.d):\n",
    "\n",
    "            # Finding the weights for each parameter\n",
    "            nodes_temp = np.roots(P_quad[j][-1][::-1])\n",
    "            V = np.zeros((n_quad, n_quad))\n",
    "            for i in range(n_quad):\n",
    "                V[i,:] = nodes_temp**i\n",
    "            b_cond = np.zeros(n_quad)\n",
    "            for i in range(n_quad):\n",
    "                b_cond[i] = np.mean(self.data[:,j]**i)\n",
    "            w_temp = np.linalg.inv(V)@b_cond\n",
    "\n",
    "            w.append(w_temp)\n",
    "            nodes.append(nodes_temp)\n",
    "\n",
    "        quad_index = self.multivariate_pce_index_quad(self.d, n_quad-1)\n",
    "        \n",
    "        for i in range(pce_coef.size):\n",
    "            for j in range(quad_index.shape[0]):\n",
    "                w_P = 1\n",
    "                Z = np.zeros((1, self.d))\n",
    "                for k in range(self.d):\n",
    "                    w_P *= w[k][quad_index[j,k]]*self.Pol_eval(P[k][pce_index[i,k],:], nodes[k][quad_index[j,k]])\n",
    "                    Z[:,k] = nodes[k][quad_index[j,k]]\n",
    "                    \n",
    "                pce_coef[i] += w_P*self.model(Z)\n",
    "\n",
    "        return pce_coef\n",
    "    \n",
    "    def LR(self):\n",
    "        \"\"\"\n",
    "        \n",
    "        \"\"\"\n",
    "        \n",
    "        P = self.Create_Orthonormal_Polynomials('LR')\n",
    "        \n",
    "        index = self.multivariate_pce_index(self.d, self.p)\n",
    "        Phi = np.ones((self.N, self.n))\n",
    "\n",
    "        for i in range(self.n):\n",
    "            for j in range(self.d):\n",
    "                Phi[:,i] *=  self.Pol_eval(P[j][index[i][j],:], self.data[:,j])\n",
    "        \n",
    "        Y = self.model(self.data)\n",
    "        mod = LinearRegression(fit_intercept = False).fit(Phi, Y)\n",
    "        \n",
    "        return mod.coef_.reshape(self.n)"
   ]
  },
  {
   "cell_type": "markdown",
   "id": "cea6c092",
   "metadata": {},
   "source": [
    "### PCE using Gauss Quadrature"
   ]
  },
  {
   "cell_type": "code",
   "execution_count": 388,
   "id": "25f4c46c",
   "metadata": {},
   "outputs": [],
   "source": [
    "#### This is assuming data is normal but not standard normal\n",
    "# ?????????? should the weights be the same for all calculations of the constants c_i's ??\n",
    "\n",
    "n_quad = 32\n",
    "nodes = hermegauss(n_quad)[0] # roots\n",
    "w = hermegauss(n_quad)[1]\n",
    "c_pce = np.zeros(n)\n",
    "for i in range(n):\n",
    "    c_pce[i] = np.dot(w, np.exp(-np.mean(dat)-np.std(dat)*nodes)*hermite(i)(nodes))\\\n",
    "    /(np.sqrt(2*np.pi)*math.factorial(i))"
   ]
  },
  {
   "cell_type": "code",
   "execution_count": 389,
   "id": "ab30ac17",
   "metadata": {},
   "outputs": [
    {
     "data": {
      "text/plain": [
       "0.18241954439820932"
      ]
     },
     "execution_count": 389,
     "metadata": {},
     "output_type": "execute_result"
    }
   ],
   "source": [
    "y_PCE = np.mean(hermeval((dat-np.mean(dat))/np.std(dat), c_pce))\n",
    "y_PCE"
   ]
  },
  {
   "cell_type": "code",
   "execution_count": 390,
   "id": "c07ace76",
   "metadata": {},
   "outputs": [
    {
     "data": {
      "text/plain": [
       "0.9987060381211048"
      ]
     },
     "execution_count": 390,
     "metadata": {},
     "output_type": "execute_result"
    }
   ],
   "source": [
    "np.std(dat_pce)"
   ]
  },
  {
   "cell_type": "code",
   "execution_count": 391,
   "id": "d005c20a",
   "metadata": {},
   "outputs": [],
   "source": [
    "#### This is assuming data is not normal so we transform it using score transform\n",
    "## Problem is... I think we need to transform it back at some point but getting error in function\n",
    "\n",
    "n_quad = 32\n",
    "nodes = hermegauss(n_quad)[0] # roots\n",
    "w = hermegauss(n_quad)[1]\n",
    "c_pce2 = np.zeros(n)\n",
    "for i in range(n):\n",
    "    c_pce2[i] = np.dot(w, np.exp(-nodes)*hermite(i)(nodes))\\\n",
    "    /(np.sqrt(2*np.pi)*math.factorial(i))"
   ]
  },
  {
   "cell_type": "code",
   "execution_count": 392,
   "id": "5568d9d9",
   "metadata": {},
   "outputs": [
    {
     "data": {
      "text/plain": [
       "array([3.57036017, 0.82057974, 2.74405123, 1.67010167, 1.92954211,\n",
       "       1.84623098, 1.85924765, 1.85921159, 1.85921666, 1.85921603,\n",
       "       1.8592161 ])"
      ]
     },
     "execution_count": 392,
     "metadata": {},
     "output_type": "execute_result"
    }
   ],
   "source": [
    "w_t = nst.back_transform(c_pce2)\n",
    "#### Try transforming w instead ???? \n",
    "w_t"
   ]
  },
  {
   "cell_type": "code",
   "execution_count": 393,
   "id": "8d75c4b8",
   "metadata": {},
   "outputs": [
    {
     "ename": "ValueError",
     "evalue": "NumPy boolean array indexing assignment cannot assign 0 input values to the 65 output values where the mask is true",
     "output_type": "error",
     "traceback": [
      "\u001b[0;31m---------------------------------------------------------------------------\u001b[0m",
      "\u001b[0;31mValueError\u001b[0m                                Traceback (most recent call last)",
      "Cell \u001b[0;32mIn[393], line 1\u001b[0m\n\u001b[0;32m----> 1\u001b[0m nst\u001b[38;5;241m.\u001b[39mback_transform(hermeval(dat_pce, c_pce2))\n",
      "File \u001b[0;32m~/CUDenver_Thesis/CUDenver-Thesis/NormalScoreTransform.py:137\u001b[0m, in \u001b[0;36mNormalScoreTransform.back_transform\u001b[0;34m(self, scores)\u001b[0m\n\u001b[1;32m    135\u001b[0m         backtr \u001b[38;5;241m=\u001b[39m (l \u001b[38;5;241m/\u001b[39m (\u001b[38;5;241m1\u001b[39m \u001b[38;5;241m-\u001b[39m gcum(sc)))\u001b[38;5;241m*\u001b[39m\u001b[38;5;241m*\u001b[39m(\u001b[38;5;241m1\u001b[39m \u001b[38;5;241m/\u001b[39m \u001b[38;5;28mself\u001b[39m\u001b[38;5;241m.\u001b[39mutpar)\n\u001b[1;32m    136\u001b[0m         temp\u001b[38;5;241m.\u001b[39mappend(backtr)\n\u001b[0;32m--> 137\u001b[0m values[upper_mask] \u001b[38;5;241m=\u001b[39m temp\n\u001b[1;32m    138\u001b[0m \u001b[38;5;28;01mreturn\u001b[39;00m values\n",
      "\u001b[0;31mValueError\u001b[0m: NumPy boolean array indexing assignment cannot assign 0 input values to the 65 output values where the mask is true"
     ]
    }
   ],
   "source": [
    "nst.back_transform(hermeval(dat_pce, c_pce2))"
   ]
  },
  {
   "cell_type": "markdown",
   "id": "92afef45",
   "metadata": {},
   "source": [
    "### Making a Function for PCE"
   ]
  },
  {
   "cell_type": "code",
   "execution_count": 394,
   "id": "a52c50ae",
   "metadata": {},
   "outputs": [],
   "source": [
    "def PCE(p, dat):\n",
    "    #### This is assuming data is normal but not standard normal\n",
    "    # ?????????? should the weights be the same for all calculations of the constants c_i's ??\n",
    "    n = int(math.factorial(d + p)/(math.factorial(d)*math.factorial(p)))\n",
    "    \n",
    "    n_quad = 32\n",
    "    nodes = hermegauss(n_quad)[0] # roots\n",
    "    w = hermegauss(n_quad)[1]\n",
    "    c_pce = np.zeros(n)\n",
    "    for i in range(n):\n",
    "        c_pce[i] = np.dot(w, np.exp(-np.mean(dat)-np.std(dat)*nodes)*hermite(i)(nodes))\\\n",
    "        /(np.sqrt(2*np.pi)*math.factorial(i))\n",
    "        \n",
    "    return hermeval((dat-np.mean(dat))/np.std(dat), c_pce)"
   ]
  },
  {
   "cell_type": "code",
   "execution_count": 395,
   "id": "6997d625",
   "metadata": {},
   "outputs": [
    {
     "data": {
      "text/plain": [
       "0.18254738751611946"
      ]
     },
     "execution_count": 395,
     "metadata": {},
     "output_type": "execute_result"
    }
   ],
   "source": [
    "np.mean(PCE(6, dat))"
   ]
  },
  {
   "cell_type": "markdown",
   "id": "dac3262d",
   "metadata": {},
   "source": [
    "## MC"
   ]
  },
  {
   "cell_type": "code",
   "execution_count": 396,
   "id": "53eac174",
   "metadata": {},
   "outputs": [
    {
     "data": {
      "text/plain": [
       "0.18275267488451735"
      ]
     },
     "execution_count": 396,
     "metadata": {},
     "output_type": "execute_result"
    }
   ],
   "source": [
    "y_mc = np.mean(np.exp(-dat_mc*1))\n",
    "y_mc_var = np.var(np.exp(-dat_mc))\n",
    "\n",
    "y_mc"
   ]
  },
  {
   "cell_type": "markdown",
   "id": "634e3893",
   "metadata": {},
   "source": [
    "## aPCE"
   ]
  },
  {
   "cell_type": "code",
   "execution_count": 397,
   "id": "a707a8cc",
   "metadata": {},
   "outputs": [],
   "source": [
    "#### Calculating the Orthogonal Polynomials\n",
    "P = np.zeros((p+1, p+1))\n",
    "\n",
    "P[0,0] = 1\n",
    "\n",
    "mu = np.zeros(2*p) \n",
    "for i in range(2*p): \n",
    "    mu[i] = np.mean(dat**i)\n",
    "    \n",
    "mu_mat = np.zeros((p, p+1))\n",
    "for i in range(p):\n",
    "    mu_mat[i,:] = mu[i:(p+1+i)]\n",
    "    \n",
    "for i in range(1,p+1):\n",
    "    A = np.zeros((i+1, i+1))\n",
    "    A[-1,-1] = 1\n",
    "    A[0:i,:] = mu_mat[0:i, 0:i+1]\n",
    "    b = A[-1]\n",
    "    a = np.zeros(p+1)\n",
    "    a[0:i+1] = np.linalg.inv(A)@b\n",
    "    P[i, :] = a.transpose()"
   ]
  },
  {
   "cell_type": "code",
   "execution_count": 398,
   "id": "c1845ae4",
   "metadata": {},
   "outputs": [],
   "source": [
    "## Checking Polynomials we created are orthogonal\n",
    "def Pol_eval(coeff, x):\n",
    "    deg = coeff.shape[0]\n",
    "    val = 0\n",
    "    for i in range(deg):\n",
    "        val += coeff[i]*x**i\n",
    "        \n",
    "    return val"
   ]
  },
  {
   "cell_type": "code",
   "execution_count": 399,
   "id": "19c65ce1",
   "metadata": {},
   "outputs": [],
   "source": [
    "def Int_eval(coeff1, coeff2, dat):\n",
    "    s = np.mean(Pol_eval(coeff1, dat)*Pol_eval(coeff2, dat))\n",
    "    return s"
   ]
  },
  {
   "cell_type": "code",
   "execution_count": 400,
   "id": "dafe6e98",
   "metadata": {},
   "outputs": [
    {
     "name": "stdout",
     "output_type": "stream",
     "text": [
      "-1.602273869139026e-15\n",
      "2.4726887204451486e-14\n",
      "-1.2224177226016764e-13\n",
      "2.652809140889861\n",
      "-2.3291590878216085e-12\n",
      "1.7708259747450938e-11\n",
      "-1.7821787423599745e-10\n",
      "-4.453399640169664e-10\n",
      "-7.30897991729762e-09\n",
      "1.0597912853427261e-07\n",
      "2.559293534432072e-08\n"
     ]
    }
   ],
   "source": [
    "for i in range(p+1):\n",
    "    print(Int_eval(P[3,:], P[i,:], dat))"
   ]
  },
  {
   "cell_type": "code",
   "execution_count": 401,
   "id": "315c6dfa",
   "metadata": {},
   "outputs": [],
   "source": [
    "P_norm = np.zeros((p+1, p+1))\n",
    "for i in range(p+1):\n",
    "    P_norm[i,:] = P[i,:]/np.sqrt(Int_eval(P[i,:], P[i,:], dat))"
   ]
  },
  {
   "cell_type": "code",
   "execution_count": 402,
   "id": "be756d29",
   "metadata": {},
   "outputs": [
    {
     "data": {
      "text/plain": [
       "array([[ 1.00000000e+00,  0.00000000e+00,  0.00000000e+00,\n",
       "         0.00000000e+00,  0.00000000e+00,  0.00000000e+00,\n",
       "         0.00000000e+00,  0.00000000e+00,  0.00000000e+00,\n",
       "         0.00000000e+00,  0.00000000e+00],\n",
       "       [-2.30945109e+00,  1.14552778e+00,  0.00000000e+00,\n",
       "         0.00000000e+00,  0.00000000e+00,  0.00000000e+00,\n",
       "         0.00000000e+00,  0.00000000e+00,  0.00000000e+00,\n",
       "         0.00000000e+00,  0.00000000e+00],\n",
       "       [ 4.24699988e+00, -4.34850383e+00,  9.36452993e-01,\n",
       "         0.00000000e+00,  0.00000000e+00,  0.00000000e+00,\n",
       "         0.00000000e+00,  0.00000000e+00,  0.00000000e+00,\n",
       "         0.00000000e+00,  0.00000000e+00],\n",
       "       [-6.58056049e+00,  1.05000596e+01, -4.71042833e+00,\n",
       "         6.13969783e-01,  0.00000000e+00,  0.00000000e+00,\n",
       "         0.00000000e+00,  0.00000000e+00,  0.00000000e+00,\n",
       "         0.00000000e+00,  0.00000000e+00],\n",
       "       [ 1.00312737e+01, -2.33431567e+01,  1.69608071e+01,\n",
       "        -4.72775425e+00,  4.38035101e-01,  0.00000000e+00,\n",
       "         0.00000000e+00,  0.00000000e+00,  0.00000000e+00,\n",
       "         0.00000000e+00,  0.00000000e+00],\n",
       "       [-1.37433532e+01,  4.37461582e+01, -4.59119377e+01,\n",
       "         2.08154143e+01, -4.19777117e+00,  3.07160411e-01,\n",
       "         0.00000000e+00,  0.00000000e+00,  0.00000000e+00,\n",
       "         0.00000000e+00,  0.00000000e+00],\n",
       "       [ 1.91584381e+01, -7.95955142e+01,  1.12234548e+02,\n",
       "        -7.25861018e+01,  2.34409656e+01, -3.66346902e+00,\n",
       "         2.19978384e-01,  0.00000000e+00,  0.00000000e+00,\n",
       "         0.00000000e+00,  0.00000000e+00],\n",
       "       [-2.76529362e+01,  1.45800147e+02, -2.66597051e+02,\n",
       "         2.32240553e+02, -1.07601075e+02,  2.71073018e+01,\n",
       "        -3.49359250e+00,  1.79892595e-01,  0.00000000e+00,\n",
       "         0.00000000e+00,  0.00000000e+00],\n",
       "       [ 3.90727898e+01, -2.50941299e+02,  5.72306761e+02,\n",
       "        -6.40731988e+02,  3.97984019e+02, -1.43516720e+02,\n",
       "         2.98018126e+01, -3.29664245e+00,  1.50114186e-01,\n",
       "         0.00000000e+00,  0.00000000e+00],\n",
       "       [-5.25885685e+01,  4.02355027e+02, -1.11923466e+03,\n",
       "         1.56340727e+03, -1.24665978e+03,  6.01033914e+02,\n",
       "        -1.77909412e+02,  3.15455710e+01, -3.06838834e+00,\n",
       "         1.25667280e-01,  0.00000000e+00],\n",
       "       [ 7.72810127e+01, -6.82068817e+02,  2.23285245e+03,\n",
       "        -3.73572510e+03,  3.64440075e+03, -2.21182771e+03,\n",
       "         8.58843705e+02, -2.13162859e+02,  3.26635211e+01,\n",
       "        -2.81095649e+00,  1.03788047e-01]])"
      ]
     },
     "execution_count": 402,
     "metadata": {},
     "output_type": "execute_result"
    }
   ],
   "source": [
    "P_norm"
   ]
  },
  {
   "cell_type": "code",
   "execution_count": 403,
   "id": "27baf474",
   "metadata": {},
   "outputs": [
    {
     "name": "stdout",
     "output_type": "stream",
     "text": [
      "-1.2505552149377763e-15\n",
      "1.7429613308195256e-14\n",
      "-7.095479759300361e-14\n",
      "0.9999999999999997\n",
      "-6.282334652496502e-13\n",
      "3.33422178755427e-12\n",
      "-2.3969313645011424e-11\n",
      "-4.902303807341468e-11\n",
      "-6.799279397284863e-10\n",
      "8.187892902355998e-09\n",
      "1.4521316558102626e-09\n"
     ]
    }
   ],
   "source": [
    "for i in range(p+1):\n",
    "    print(Int_eval(P_norm[3,:], P_norm[i,:], dat))"
   ]
  },
  {
   "cell_type": "markdown",
   "id": "e1850c77",
   "metadata": {},
   "source": [
    "### Checking Weights on Legendre Polynomials"
   ]
  },
  {
   "cell_type": "code",
   "execution_count": 404,
   "id": "9af27da0",
   "metadata": {},
   "outputs": [
    {
     "data": {
      "text/plain": [
       "poly1d([ 1.5,  0. , -0.5])"
      ]
     },
     "execution_count": 404,
     "metadata": {},
     "output_type": "execute_result"
    }
   ],
   "source": [
    "legendre(2)"
   ]
  },
  {
   "cell_type": "code",
   "execution_count": 405,
   "id": "1116655f",
   "metadata": {},
   "outputs": [
    {
     "data": {
      "text/plain": [
       "array([-1.,  1.])"
      ]
     },
     "execution_count": 405,
     "metadata": {},
     "output_type": "execute_result"
    }
   ],
   "source": [
    "np.roots(hermite(2))"
   ]
  },
  {
   "cell_type": "code",
   "execution_count": 406,
   "id": "e8347de1",
   "metadata": {},
   "outputs": [],
   "source": [
    "import scipy.integrate as integrate\n",
    "import scipy.special as special"
   ]
  },
  {
   "cell_type": "code",
   "execution_count": 407,
   "id": "6d9ee02a",
   "metadata": {},
   "outputs": [
    {
     "name": "stderr",
     "output_type": "stream",
     "text": [
      "/var/folders/6l/nmzh70mx64s3ykd63cty8kg80000gn/T/ipykernel_50077/1731710399.py:1: IntegrationWarning: The integral is probably divergent, or slowly convergent.\n",
      "  integrate.quad(lambda x: x**0, -np.inf, np.inf)[0]\n"
     ]
    },
    {
     "data": {
      "text/plain": [
       "-2.0"
      ]
     },
     "execution_count": 407,
     "metadata": {},
     "output_type": "execute_result"
    }
   ],
   "source": [
    "integrate.quad(lambda x: x**0, -np.inf, np.inf)[0]"
   ]
  },
  {
   "cell_type": "code",
   "execution_count": 408,
   "id": "bd90d39e",
   "metadata": {},
   "outputs": [],
   "source": [
    "# Finding the weights for c_i\n",
    "\n",
    "## ???? For some reason, np.roots gives me the negative of the roots for the legendre polynomial\n",
    "## ???? The weights are correct, but they are given in a different order\n",
    "nodes_H = -1*np.roots(legendre(p+1))\n",
    "V_H = np.zeros((p+1,p+1))\n",
    "for i in range(p+1):\n",
    "    V_H[i,:] = nodes_H**i\n",
    "b_cond_H = np.zeros(p+1)\n",
    "for i in range(p+1):\n",
    "    b_cond_H[i] = integrate.quad(lambda x: x**i, -1, 1)[0]\n",
    "w_s_H = np.linalg.inv(V_H)@b_cond_H"
   ]
  },
  {
   "cell_type": "code",
   "execution_count": 409,
   "id": "fe9a0374",
   "metadata": {},
   "outputs": [
    {
     "data": {
      "text/plain": [
       "array([0.05566857, 0.12558037, 0.18629021, 0.23319376, 0.26280454,\n",
       "       0.05566857, 0.12558037, 0.18629021, 0.23319376, 0.26280454,\n",
       "       0.27292509])"
      ]
     },
     "execution_count": 409,
     "metadata": {},
     "output_type": "execute_result"
    }
   ],
   "source": [
    "w_s_H"
   ]
  },
  {
   "cell_type": "code",
   "execution_count": 410,
   "id": "8ab7aae6",
   "metadata": {},
   "outputs": [
    {
     "data": {
      "text/plain": [
       "array([ 0.97822866,  0.8870626 ,  0.73015201,  0.51909613,  0.26954316,\n",
       "       -0.97822866, -0.8870626 , -0.73015201, -0.51909613, -0.26954316,\n",
       "        0.        ])"
      ]
     },
     "execution_count": 410,
     "metadata": {},
     "output_type": "execute_result"
    }
   ],
   "source": [
    "np.roots(legendre(p+1))"
   ]
  },
  {
   "cell_type": "code",
   "execution_count": 411,
   "id": "f05c1424",
   "metadata": {},
   "outputs": [
    {
     "data": {
      "text/plain": [
       "(array([-0.97822866, -0.8870626 , -0.73015201, -0.51909613, -0.26954316,\n",
       "         0.        ,  0.26954316,  0.51909613,  0.73015201,  0.8870626 ,\n",
       "         0.97822866]),\n",
       " array([0.05566857, 0.12558037, 0.18629021, 0.23319376, 0.26280454,\n",
       "        0.27292509, 0.26280454, 0.23319376, 0.18629021, 0.12558037,\n",
       "        0.05566857]))"
      ]
     },
     "execution_count": 411,
     "metadata": {},
     "output_type": "execute_result"
    }
   ],
   "source": [
    "leggauss(p+1)"
   ]
  },
  {
   "cell_type": "markdown",
   "id": "b01972ab",
   "metadata": {},
   "source": [
    "### aPCE using Gauss Quadrature"
   ]
  },
  {
   "cell_type": "code",
   "execution_count": 412,
   "id": "8e12ce88",
   "metadata": {},
   "outputs": [],
   "source": [
    "# Finding the weights for c_i\n",
    "nodes = np.roots(P_norm[-1][::-1])\n",
    "V = np.zeros((p,p))\n",
    "for i in range(p):\n",
    "    V[i,:] = nodes**i\n",
    "b_cond = np.zeros(p)\n",
    "for i in range(p):\n",
    "    b_cond[i] = np.mean(dat**i)\n",
    "w_s = np.linalg.inv(V)@b_cond"
   ]
  },
  {
   "cell_type": "code",
   "execution_count": 413,
   "id": "6347f169",
   "metadata": {},
   "outputs": [
    {
     "data": {
      "text/plain": [
       "array([1.00000000e+00, 2.01605857e+00, 4.82655141e+00, 1.32693012e+01,\n",
       "       4.08681517e+01, 1.38344692e+02, 5.07342413e+02, 1.99307384e+03,\n",
       "       8.30881276e+03, 3.64452145e+04])"
      ]
     },
     "execution_count": 413,
     "metadata": {},
     "output_type": "execute_result"
    }
   ],
   "source": [
    "b_cond"
   ]
  },
  {
   "cell_type": "code",
   "execution_count": 414,
   "id": "ad88c34c",
   "metadata": {},
   "outputs": [
    {
     "data": {
      "text/plain": [
       "array([5.57849274, 4.89539773, 4.25198342, 3.60077494, 2.94547186,\n",
       "       2.24723323, 1.62630398, 1.07859715, 0.60645806, 0.25291133])"
      ]
     },
     "execution_count": 414,
     "metadata": {},
     "output_type": "execute_result"
    }
   ],
   "source": [
    "np.roots(P_norm[-1][::-1])"
   ]
  },
  {
   "cell_type": "code",
   "execution_count": 415,
   "id": "585123c0",
   "metadata": {},
   "outputs": [
    {
     "data": {
      "text/plain": [
       "array([ 1.03788047e-01, -2.81095649e+00,  3.26635211e+01, -2.13162859e+02,\n",
       "        8.58843705e+02, -2.21182771e+03,  3.64440075e+03, -3.73572510e+03,\n",
       "        2.23285245e+03, -6.82068817e+02,  7.72810127e+01])"
      ]
     },
     "execution_count": 415,
     "metadata": {},
     "output_type": "execute_result"
    }
   ],
   "source": [
    "P_norm[-1][::-1]"
   ]
  },
  {
   "cell_type": "code",
   "execution_count": 416,
   "id": "af103592",
   "metadata": {},
   "outputs": [],
   "source": [
    "c = np.zeros(p+1)\n",
    "for i in range(p+1):\n",
    "    c[i] = np.dot(w_s, np.exp(-nodes)*Pol_eval(P_norm[i,:], nodes))"
   ]
  },
  {
   "cell_type": "code",
   "execution_count": 417,
   "id": "c713e490",
   "metadata": {},
   "outputs": [
    {
     "data": {
      "text/plain": [
       "array([ 1.82419341e-01, -1.19891363e-01,  5.90332402e-02, -2.51676470e-02,\n",
       "        8.19382235e-03, -2.17039445e-03,  4.88713012e-04, -8.55553954e-05,\n",
       "        1.29511111e-05, -1.67773412e-06,  8.00511814e-12])"
      ]
     },
     "execution_count": 417,
     "metadata": {},
     "output_type": "execute_result"
    }
   ],
   "source": [
    "c"
   ]
  },
  {
   "cell_type": "code",
   "execution_count": 418,
   "id": "ddf10dc2",
   "metadata": {},
   "outputs": [
    {
     "data": {
      "text/plain": [
       "0.18241934144575925"
      ]
     },
     "execution_count": 418,
     "metadata": {},
     "output_type": "execute_result"
    }
   ],
   "source": [
    "y_aPCE = np.mean(c[0]*Pol_eval(P_norm[0,:], dat) \\\n",
    "        + c[1]*Pol_eval(P_norm[1,:], dat) \\\n",
    "        + c[2]*Pol_eval(P_norm[2,:], dat) \\\n",
    "        + c[3]*Pol_eval(P_norm[3,:], dat) \\\n",
    "        + c[4]*Pol_eval(P_norm[4,:], dat) \\\n",
    "        + c[5]*Pol_eval(P_norm[5,:], dat) \\\n",
    "        + c[6]*Pol_eval(P_norm[6,:], dat))\n",
    "\n",
    "y_aPCE"
   ]
  },
  {
   "cell_type": "code",
   "execution_count": 419,
   "id": "c7f434cd",
   "metadata": {},
   "outputs": [],
   "source": [
    "y_pce = c[0]*Pol_eval(P_norm[0,:], dat2) \\\n",
    "        + c[1]*Pol_eval(P_norm[1,:], dat2) \\\n",
    "        + c[2]*Pol_eval(P_norm[2,:], dat2) \\\n",
    "        + c[3]*Pol_eval(P_norm[3,:], dat2) \\\n",
    "        + c[4]*Pol_eval(P_norm[4,:], dat2) \\\n",
    "        + c[5]*Pol_eval(P_norm[5,:], dat2) \\\n",
    "        + c[6]*Pol_eval(P_norm[6,:], dat2)\n",
    "y_true = np.exp(-dat2)"
   ]
  },
  {
   "cell_type": "code",
   "execution_count": 420,
   "id": "67b42402",
   "metadata": {},
   "outputs": [
    {
     "data": {
      "text/plain": [
       "0.18293442557051007"
      ]
     },
     "execution_count": 420,
     "metadata": {},
     "output_type": "execute_result"
    }
   ],
   "source": [
    "np.mean(y_pce)"
   ]
  },
  {
   "cell_type": "code",
   "execution_count": 421,
   "id": "7fd9399e",
   "metadata": {},
   "outputs": [],
   "source": [
    "def evaluate_pce_1D(pce_coef, d, max_deg, x):\n",
    "    \"\"\"\n",
    "    evaluate pce expansion with maximum degree max_deg at the points x\n",
    "    for Black-Scholes\n",
    "    input:\n",
    "    pce_coef: 1d array, the pce coefficients\n",
    "    d: int, the number of parameter\n",
    "    max_deg: int, the maximum degree\n",
    "    x: 2d array, the points where the pce is evaluated. x.shape[1] = 3\n",
    "    return\n",
    "    val: 1d array of the same size as x.shape[0]\n",
    "    \"\"\"\n",
    "    pce_index = multivariate_pce_index(d, max_deg)\n",
    "    val = np.zeros(x.shape[0])\n",
    "    for i in range(pce_index.shape[0]):    \n",
    "        val += pce_coef[i]*\\\n",
    "               Pol_eval(P_norm[pce_index[i,0],:], x)\n",
    "    return val"
   ]
  },
  {
   "cell_type": "code",
   "execution_count": 422,
   "id": "273f8816",
   "metadata": {
    "scrolled": false
   },
   "outputs": [
    {
     "data": {
      "image/png": "[encoded data removed]",
      "text/plain": [
       "<Figure size 640x480 with 1 Axes>"
      ]
     },
     "metadata": {},
     "output_type": "display_data"
    }
   ],
   "source": [
    "#plt.rcParams['figure.figsize'] = (6, 6)\n",
    "sns.kdeplot(y_pce, color='b', label='aPCE Quadrature order 6')\n",
    "sns.kdeplot(y_true, color='r', label='Solution')\n",
    "plt.legend()\n",
    "plt.xlabel('Y')\n",
    "plt.ylabel('density');"
   ]
  },
  {
   "cell_type": "code",
   "execution_count": 423,
   "id": "6401abd3",
   "metadata": {},
   "outputs": [
    {
     "data": {
      "text/plain": [
       "[<matplotlib.lines.Line2D at 0x17b7a6790>]"
      ]
     },
     "execution_count": 423,
     "metadata": {},
     "output_type": "execute_result"
    },
    {
     "data": {
      "image/png": "[encoded data removed]",
      "text/plain": [
       "<Figure size 640x480 with 1 Axes>"
      ]
     },
     "metadata": {},
     "output_type": "display_data"
    }
   ],
   "source": [
    "plt.plot(y_pce)\n",
    "plt.plot(y_true)"
   ]
  },
  {
   "cell_type": "markdown",
   "id": "bd32d3ba",
   "metadata": {},
   "source": [
    "### Using Linear Regression to Calculate the Coefficients"
   ]
  },
  {
   "cell_type": "code",
   "execution_count": 424,
   "id": "e8f84a65",
   "metadata": {},
   "outputs": [],
   "source": [
    "Phi = np.zeros((N, n))\n",
    "\n",
    "for i in range(n):\n",
    "    Phi[:,i] =  Pol_eval(P_norm[i,:], dat)"
   ]
  },
  {
   "cell_type": "code",
   "execution_count": 425,
   "id": "c66c3e9b",
   "metadata": {},
   "outputs": [],
   "source": [
    "model = LinearRegression(fit_intercept = False).fit(Phi, np.exp(-dat))"
   ]
  },
  {
   "cell_type": "code",
   "execution_count": 426,
   "id": "c4b98343",
   "metadata": {},
   "outputs": [
    {
     "data": {
      "text/plain": [
       "array([ 1.82419341e-01, -1.19891363e-01,  5.90332402e-02, -2.51676470e-02,\n",
       "        8.19382234e-03, -2.17039444e-03,  4.88712963e-04, -8.55553529e-05,\n",
       "        1.29525634e-05, -1.69836054e-06,  2.03748720e-07])"
      ]
     },
     "execution_count": 426,
     "metadata": {},
     "output_type": "execute_result"
    }
   ],
   "source": [
    "model.coef_"
   ]
  },
  {
   "cell_type": "code",
   "execution_count": 427,
   "id": "056296c3",
   "metadata": {},
   "outputs": [],
   "source": [
    "Phi2 = np.zeros((N, n))\n",
    "\n",
    "for i in range(n):\n",
    "    Phi2[:,i] =  Pol_eval(P_norm[i,:], dat2)"
   ]
  },
  {
   "cell_type": "code",
   "execution_count": 428,
   "id": "6b0309df",
   "metadata": {},
   "outputs": [],
   "source": [
    "y_aPCE_LR = Phi2@model.coef_"
   ]
  },
  {
   "cell_type": "code",
   "execution_count": 429,
   "id": "9b4b7ace",
   "metadata": {},
   "outputs": [
    {
     "data": {
      "text/plain": [
       "0.18292389289523017"
      ]
     },
     "execution_count": 429,
     "metadata": {},
     "output_type": "execute_result"
    }
   ],
   "source": [
    "np.mean(y_aPCE_LR)"
   ]
  },
  {
   "cell_type": "code",
   "execution_count": 430,
   "id": "44229356",
   "metadata": {},
   "outputs": [
    {
     "data": {
      "text/plain": [
       "(500,)"
      ]
     },
     "execution_count": 430,
     "metadata": {},
     "output_type": "execute_result"
    }
   ],
   "source": [
    "y_aPCE_LR.shape"
   ]
  },
  {
   "cell_type": "code",
   "execution_count": 431,
   "id": "8c8a9beb",
   "metadata": {},
   "outputs": [
    {
     "data": {
      "image/png": "[encoded data removed]",
      "text/plain": [
       "<Figure size 640x480 with 1 Axes>"
      ]
     },
     "metadata": {},
     "output_type": "display_data"
    }
   ],
   "source": [
    "#plt.rcParams['figure.figsize'] = (6, 6)\n",
    "sns.kdeplot(y_aPCE_LR, color='b', label='aPCE LR order 6')\n",
    "sns.kdeplot(y_true, color='r', label='Solution')\n",
    "plt.legend()\n",
    "plt.xlabel('Y')\n",
    "plt.ylabel('density');"
   ]
  },
  {
   "cell_type": "code",
   "execution_count": 432,
   "id": "53686241",
   "metadata": {},
   "outputs": [
    {
     "data": {
      "text/plain": [
       "0.0009368837464130913"
      ]
     },
     "execution_count": 432,
     "metadata": {},
     "output_type": "execute_result"
    }
   ],
   "source": [
    "(np.mean(y_aPCE_LR)-y_mc)/y_mc"
   ]
  },
  {
   "cell_type": "markdown",
   "id": "986ef913",
   "metadata": {},
   "source": [
    "### Multidimensional aPCE on the Ishigami Function"
   ]
  },
  {
   "cell_type": "code",
   "execution_count": 436,
   "id": "d7894720",
   "metadata": {},
   "outputs": [],
   "source": [
    "N = 500 # Sample size\n",
    "d = 3  # d --> number of random variables\n",
    "p = 10 # p --> degree of PCE polynomial\n",
    "n = int(math.factorial(d + p)/(math.factorial(d)*math.factorial(p))) # number of terms in PCE"
   ]
  },
  {
   "cell_type": "code",
   "execution_count": 437,
   "id": "47969c8e",
   "metadata": {},
   "outputs": [],
   "source": [
    "def Ishigami_Function(x1,x2,x3):\n",
    "    return np.c_[np.sin(x1) + 7*(np.sin(x2))**2 + 0.1*x3**4*np.sin(x1)]"
   ]
  },
  {
   "cell_type": "code",
   "execution_count": 438,
   "id": "519e0a85",
   "metadata": {},
   "outputs": [],
   "source": [
    "# Generating data x_1, x_2, and x_3\n",
    "Z = np.random.uniform(-np.pi,np.pi, size=(N,3))\n",
    "\n",
    "x_1 = Z[:,0]\n",
    "x_2 = Z[:,1]\n",
    "x_3 = Z[:,2]\n",
    "\n",
    "Y = np.c_[np.sin(x_1) + 7*(np.sin(x_2))**2 + 0.1*x_3**4*np.sin(x_1)]"
   ]
  },
  {
   "cell_type": "code",
   "execution_count": 439,
   "id": "1e1cd4dc",
   "metadata": {},
   "outputs": [],
   "source": [
    "#### Calculating the Orthogonal Polynomials corresponding to x_1\n",
    "P1 = np.zeros((p+1, p+1))\n",
    "\n",
    "P1[0,0] = 1\n",
    "\n",
    "mu = np.zeros(2*p) \n",
    "for i in range(2*p): \n",
    "    mu[i] = np.mean(x_1**i)\n",
    "    \n",
    "mu_mat = np.zeros((p, p+1))\n",
    "for i in range(p):\n",
    "    mu_mat[i,:] = mu[i:(p+1+i)]\n",
    "    \n",
    "for i in range(1,p+1):\n",
    "    A = np.zeros((i+1, i+1))\n",
    "    A[-1,-1] = 1\n",
    "    A[0:i,:] = mu_mat[0:i, 0:i+1]\n",
    "    b = A[-1]\n",
    "    a = np.zeros(p+1)\n",
    "    a[0:i+1] = np.linalg.inv(A)@b\n",
    "    P1[i, :] = a.transpose()"
   ]
  },
  {
   "cell_type": "code",
   "execution_count": 440,
   "id": "81daaa54",
   "metadata": {},
   "outputs": [],
   "source": [
    "q = 10"
   ]
  },
  {
   "cell_type": "code",
   "execution_count": 441,
   "id": "a751e2d2",
   "metadata": {},
   "outputs": [],
   "source": [
    "#### Calculating the Orthogonal Polynomials corresponding to x_1\n",
    "#### For Quadrature\n",
    "P1_q = np.zeros((q+1, q+1))\n",
    "\n",
    "P1_q[0,0] = 1\n",
    "\n",
    "mu = np.zeros(2*q) \n",
    "for i in range(2*q): \n",
    "    mu[i] = np.mean(x_1**i)\n",
    "    \n",
    "mu_mat = np.zeros((q, q+1))\n",
    "for i in range(q):\n",
    "    mu_mat[i,:] = mu[i:(q+1+i)]\n",
    "    \n",
    "for i in range(1,q+1):\n",
    "    A = np.zeros((i+1, i+1))\n",
    "    A[-1,-1] = 1\n",
    "    A[0:i,:] = mu_mat[0:i, 0:i+1]\n",
    "    b = A[-1]\n",
    "    a = np.zeros(q+1)\n",
    "    a[0:i+1] = np.linalg.inv(A)@b\n",
    "    P1_q[i, :] = a.transpose()"
   ]
  },
  {
   "cell_type": "code",
   "execution_count": 442,
   "id": "c148d571",
   "metadata": {},
   "outputs": [],
   "source": [
    "#### Calculating the Orthogonal Polynomials corresponding to x_2\n",
    "P2 = np.zeros((p+1, p+1))\n",
    "\n",
    "P2[0,0] = 1\n",
    "\n",
    "mu = np.zeros(2*p) \n",
    "for i in range(2*p): \n",
    "    mu[i] = np.mean(x_2**i)\n",
    "    \n",
    "mu_mat = np.zeros((p, p+1))\n",
    "for i in range(p):\n",
    "    mu_mat[i,:] = mu[i:(p+1+i)]\n",
    "    \n",
    "for i in range(1,p+1):\n",
    "    A = np.zeros((i+1, i+1))\n",
    "    A[-1,-1] = 1\n",
    "    A[0:i,:] = mu_mat[0:i, 0:i+1]\n",
    "    b = A[-1]\n",
    "    a = np.zeros(p+1)\n",
    "    a[0:i+1] = np.linalg.inv(A)@b\n",
    "    P2[i, :] = a.transpose()"
   ]
  },
  {
   "cell_type": "code",
   "execution_count": 443,
   "id": "57584fd7",
   "metadata": {},
   "outputs": [],
   "source": [
    "#### Calculating the Orthogonal Polynomials corresponding to x_2\n",
    "#### For Quadrature\n",
    "P2_q = np.zeros((q+1, q+1))\n",
    "\n",
    "P2_q[0,0] = 1\n",
    "\n",
    "mu = np.zeros(2*q) \n",
    "for i in range(2*q): \n",
    "    mu[i] = np.mean(x_2**i)\n",
    "    \n",
    "mu_mat = np.zeros((q, q+1))\n",
    "for i in range(q):\n",
    "    mu_mat[i,:] = mu[i:(q+1+i)]\n",
    "    \n",
    "for i in range(1,q+1):\n",
    "    A = np.zeros((i+1, i+1))\n",
    "    A[-1,-1] = 1\n",
    "    A[0:i,:] = mu_mat[0:i, 0:i+1]\n",
    "    b = A[-1]\n",
    "    a = np.zeros(q+1)\n",
    "    a[0:i+1] = np.linalg.inv(A)@b\n",
    "    P2_q[i, :] = a.transpose()"
   ]
  },
  {
   "cell_type": "code",
   "execution_count": 444,
   "id": "ce9dd256",
   "metadata": {},
   "outputs": [],
   "source": [
    "#### Calculating the Orthogonal Polynomials corresponding to x_3\n",
    "P3 = np.zeros((p+1, p+1))\n",
    "\n",
    "P3[0,0] = 1\n",
    "\n",
    "mu = np.zeros(2*p) \n",
    "for i in range(2*p): \n",
    "    mu[i] = np.mean(x_3**i)\n",
    "    \n",
    "mu_mat = np.zeros((p, p+1))\n",
    "for i in range(p):\n",
    "    mu_mat[i,:] = mu[i:(p+1+i)]\n",
    "    \n",
    "for i in range(1,p+1):\n",
    "    A = np.zeros((i+1, i+1))\n",
    "    A[-1,-1] = 1\n",
    "    A[0:i,:] = mu_mat[0:i, 0:i+1]\n",
    "    b = A[-1]\n",
    "    a = np.zeros(p+1)\n",
    "    a[0:i+1] = np.linalg.inv(A)@b\n",
    "    P3[i, :] = a.transpose()"
   ]
  },
  {
   "cell_type": "code",
   "execution_count": 445,
   "id": "08ebe0c1",
   "metadata": {},
   "outputs": [],
   "source": [
    "#### Calculating the Orthogonal Polynomials corresponding to x_1\n",
    "#### For Quadrature\n",
    "P3_q = np.zeros((q+1, q+1))\n",
    "\n",
    "P3_q[0,0] = 1\n",
    "\n",
    "mu = np.zeros(2*q) \n",
    "for i in range(2*q): \n",
    "    mu[i] = np.mean(x_1**i)\n",
    "    \n",
    "mu_mat = np.zeros((q, q+1))\n",
    "for i in range(q):\n",
    "    mu_mat[i,:] = mu[i:(q+1+i)]\n",
    "    \n",
    "for i in range(1,q+1):\n",
    "    A = np.zeros((i+1, i+1))\n",
    "    A[-1,-1] = 1\n",
    "    A[0:i,:] = mu_mat[0:i, 0:i+1]\n",
    "    b = A[-1]\n",
    "    a = np.zeros(q+1)\n",
    "    a[0:i+1] = np.linalg.inv(A)@b\n",
    "    P3_q[i, :] = a.transpose()"
   ]
  },
  {
   "cell_type": "code",
   "execution_count": 446,
   "id": "dacb9252",
   "metadata": {},
   "outputs": [],
   "source": [
    "P1_norm = np.zeros((p+1, p+1))\n",
    "for i in range(p+1):\n",
    "    P1_norm[i,:] = P1[i,:]/np.sqrt(Int_eval(P1[i,:], P1[i,:], x_1))"
   ]
  },
  {
   "cell_type": "code",
   "execution_count": 447,
   "id": "0b2ddf0e",
   "metadata": {},
   "outputs": [],
   "source": [
    "P1_q_norm = np.zeros((q+1, q+1))\n",
    "for i in range(q+1):\n",
    "    P1_q_norm[i,:] = P1_q[i,:]/np.sqrt(Int_eval(P1_q[i,:], P1_q[i,:], x_1))"
   ]
  },
  {
   "cell_type": "code",
   "execution_count": 448,
   "id": "08a581f3",
   "metadata": {},
   "outputs": [],
   "source": [
    "P2_norm = np.zeros((p+1, p+1))\n",
    "for i in range(p+1):\n",
    "    P2_norm[i,:] = P2[i,:]/np.sqrt(Int_eval(P2[i,:], P2[i,:], x_2))"
   ]
  },
  {
   "cell_type": "code",
   "execution_count": 449,
   "id": "990f2b47",
   "metadata": {},
   "outputs": [],
   "source": [
    "####ssss\n",
    "P2_q_norm = np.zeros((q+1, q+1))\n",
    "for i in range(q+1):\n",
    "    P2_q_norm[i,:] = P2_q[i,:]/np.sqrt(Int_eval(P2_q[i,:], P2_q[i,:], x_2))"
   ]
  },
  {
   "cell_type": "code",
   "execution_count": 450,
   "id": "a2a4a858",
   "metadata": {},
   "outputs": [],
   "source": [
    "P3_norm = np.zeros((p+1, p+1))\n",
    "for i in range(p+1):\n",
    "    P3_norm[i,:] = P3[i,:]/np.sqrt(Int_eval(P3[i,:], P3[i,:], x_3))"
   ]
  },
  {
   "cell_type": "code",
   "execution_count": 451,
   "id": "d60e29e6",
   "metadata": {},
   "outputs": [],
   "source": [
    "P3_q_norm = np.zeros((q+1, q+1))\n",
    "for i in range(q+1):\n",
    "    P3_q_norm[i,:] = P3_q[i,:]/np.sqrt(Int_eval(P3_q[i,:], P3_q[i,:], x_3))"
   ]
  },
  {
   "cell_type": "code",
   "execution_count": 110,
   "id": "90a21a63",
   "metadata": {},
   "outputs": [],
   "source": [
    "def multivariate_pce_index(d, max_deg):\n",
    "    \"\"\"\n",
    "    Generate all the d-dimensional polynomial indices with the \n",
    "    constraint that the sum of the indexes is <= max_deg\n",
    "    \n",
    "    input:\n",
    "    d: int, number of random variables\n",
    "    max_deg: int, the max degree allowed\n",
    "    \n",
    "    return: \n",
    "    2d array with shape[1] equal to d, the multivariate indices\n",
    "    \"\"\"\n",
    "    maxRange = max_deg*np.ones(d, dtype = 'int')\n",
    "    index = np.array([i for i in product(*(range(i + 1) for i in maxRange)) if sum(i) <= max_deg])\n",
    "    return index"
   ]
  },
  {
   "cell_type": "code",
   "execution_count": 453,
   "id": "778c0956",
   "metadata": {},
   "outputs": [],
   "source": [
    "def aPCE_Ishigami_Quadrature(d, max_deg, n_quad):\n",
    "    \"\"\"\n",
    "    Compute the pce coefficients of the Ishigami Function\n",
    "    input:\n",
    "    d: int, number of parameters\n",
    "    max_deg: int, the max degree so that individual degrees\n",
    "             are not above it\n",
    "    n_quad: int, number of quadrature points\n",
    "    return:\n",
    "    1d array, PCE coefficients\n",
    "    \"\"\"\n",
    "    pce_index = multivariate_pce_index(d, max_deg)\n",
    "    pce_coef = np.zeros(pce_index.shape[0])\n",
    "    \n",
    "    # quadrature\n",
    "    # Finding the weights for x_1\n",
    "    nodes1 = np.roots(P1_q_norm[-1][::-1])\n",
    "    V = np.zeros((n_quad,n_quad))\n",
    "    for i in range(n_quad):\n",
    "        V[i,:] = nodes1**i\n",
    "    b_cond = np.zeros(n_quad)\n",
    "    for i in range(n_quad):\n",
    "        b_cond[i] = np.mean(x_1**i)\n",
    "    w_1 = np.linalg.inv(V)@b_cond\n",
    "    print(nodes1)\n",
    "    \n",
    "    # Finding the weights for x_2\n",
    "    nodes2 = np.roots(P2_q_norm[-1][::-1])\n",
    "    V = np.zeros((n_quad,n_quad))\n",
    "    for i in range(n_quad):\n",
    "        V[i,:] = nodes2**i\n",
    "    b_cond = np.zeros(n_quad)\n",
    "    for i in range(n_quad):\n",
    "        b_cond[i] = np.mean(x_2**i)\n",
    "    w_2 = np.linalg.inv(V)@b_cond\n",
    "    print(nodes2)\n",
    "    \n",
    "    # Finding the weights for x_3\n",
    "    nodes3 = np.roots(P3_q_norm[-1][::-1])\n",
    "    V = np.zeros((n_quad,n_quad))\n",
    "    for i in range(n_quad):\n",
    "        V[i,:] = nodes3**i\n",
    "    b_cond = np.zeros(n_quad)\n",
    "    for i in range(n_quad):\n",
    "        b_cond[i] = np.mean(x_3**i)\n",
    "    w_3 = np.linalg.inv(V)@b_cond\n",
    "    print(nodes3)\n",
    "        \n",
    "    # the index is for computing the quadrature\n",
    "    quad_index = multivariate_pce_index(3, n_quad-1)\n",
    "        \n",
    "    for i in range(pce_coef.size):\n",
    "        for j in range(quad_index.shape[0]):\n",
    "            pce_coef[i] += Ishigami_Function(nodes1[quad_index[j,0]], \n",
    "                                             nodes2[quad_index[j,1]], \n",
    "                                             nodes3[quad_index[j,2]])*\\\n",
    "            w_1[quad_index[j,0]]*w_2[quad_index[j,1]]*w_3[quad_index[j,2]]*\\\n",
    "            Pol_eval(P1_norm[pce_index[i,0],:], nodes1[quad_index[j,0]])*\\\n",
    "            Pol_eval(P2_norm[pce_index[i,1],:], nodes2[quad_index[j,1]])*\\\n",
    "            Pol_eval(P3_norm[pce_index[i,2],:], nodes3[quad_index[j,2]]) \n",
    "\n",
    "    return pce_coef"
   ]
  },
  {
   "cell_type": "code",
   "execution_count": 454,
   "id": "9e580a23",
   "metadata": {},
   "outputs": [],
   "source": [
    "def aPCE_Ishigami_Quadrature(d, max_deg, n_quad):\n",
    "    \"\"\"\n",
    "    Compute the pce coefficients of the Ishigami Function\n",
    "    input:\n",
    "    d: int, number of parameters\n",
    "    max_deg: int, the max degree so that individual degrees\n",
    "             are not above it\n",
    "    n_quad: int, number of quadrature points\n",
    "    return:\n",
    "    1d array, PCE coefficients\n",
    "    \"\"\"\n",
    "    pce_index = multivariate_pce_index(d, max_deg)\n",
    "    pce_coef = np.zeros(pce_index.shape[0])\n",
    "    \n",
    "    # quadrature\n",
    "    # Finding the weights for x_1\n",
    "    nodes1 = np.roots(P1_q_norm[-1][::-1])\n",
    "    V = np.zeros((n_quad,n_quad))\n",
    "    for i in range(n_quad):\n",
    "        V[i,:] = nodes1**i\n",
    "    b_cond = np.zeros(n_quad)\n",
    "    for i in range(n_quad):\n",
    "        b_cond[i] = np.mean(x_1**i)\n",
    "    w_1 = np.linalg.inv(V)@b_cond\n",
    "    \n",
    "    # Finding the weights for x_2\n",
    "    nodes2 = np.roots(P2_q_norm[-1][::-1])\n",
    "    V = np.zeros((n_quad,n_quad))\n",
    "    for i in range(n_quad):\n",
    "        V[i,:] = nodes2**i\n",
    "    b_cond = np.zeros(n_quad)\n",
    "    for i in range(n_quad):\n",
    "        b_cond[i] = np.mean(x_2**i)\n",
    "    w_2 = np.linalg.inv(V)@b_cond\n",
    "    \n",
    "    # Finding the weights for x_3\n",
    "    nodes3 = np.roots(P3_q_norm[-1][::-1])\n",
    "    V = np.zeros((n_quad,n_quad))\n",
    "    for i in range(n_quad):\n",
    "        V[i,:] = nodes3**i\n",
    "    b_cond = np.zeros(n_quad)\n",
    "    for i in range(n_quad):\n",
    "        b_cond[i] = np.mean(x_3**i)\n",
    "    w_3 = np.linalg.inv(V)@b_cond\n",
    "        \n",
    "    # the index is for computing the quadrature\n",
    "    #quad_index = multivariate_pce_index(3, n_quad-1)\n",
    "    for i in range(pce_coef.size):\n",
    "        for j in range(n_quad):\n",
    "            for k in range(n_quad):\n",
    "                for r in range(n_quad):\n",
    "                    pce_coef[i] += w_1[j]*w_2[k]*w_3[r]*\\\n",
    "                                   Ishigami_Function(nodes1[j], \n",
    "                                                     nodes2[k], \n",
    "                                                     nodes3[r])*\\\n",
    "                        Pol_eval(P1_norm[pce_index[i,0],:], nodes1[j])*\\\n",
    "                        Pol_eval(P2_norm[pce_index[i,1],:], nodes2[k])*\\\n",
    "                        Pol_eval(P3_norm[pce_index[i,2],:], nodes3[r])\n",
    "\n",
    "    return pce_coef"
   ]
  },
  {
   "cell_type": "code",
   "execution_count": 455,
   "id": "daa98d64",
   "metadata": {},
   "outputs": [],
   "source": [
    "pce_coef = aPCE_Ishigami_Quadrature(3, p, q)"
   ]
  },
  {
   "cell_type": "code",
   "execution_count": 456,
   "id": "ecdab176",
   "metadata": {},
   "outputs": [
    {
     "data": {
      "text/plain": [
       "array([ 8.55597320e-03, -1.03132133e-04, -2.02349912e-01,  2.90934933e-04,\n",
       "        1.66332946e+00,  5.95778595e-03, -5.52542676e+00, -2.94079288e-03,\n",
       "        6.34627172e+00, -4.19323905e-02, -1.23264457e+00])"
      ]
     },
     "execution_count": 456,
     "metadata": {},
     "output_type": "execute_result"
    }
   ],
   "source": [
    "P1_q_norm[-1][::-1]"
   ]
  },
  {
   "cell_type": "code",
   "execution_count": 457,
   "id": "13fe63ac",
   "metadata": {},
   "outputs": [
    {
     "data": {
      "text/plain": [
       "array([ 9.06185562e-03,  6.95512806e-04, -2.09722765e-01, -1.28865747e-02,\n",
       "        1.68289725e+00,  7.00466192e-02, -5.44732712e+00, -1.04382555e-01,\n",
       "        6.06613595e+00, -1.99238800e-02, -1.04994678e+00])"
      ]
     },
     "execution_count": 457,
     "metadata": {},
     "output_type": "execute_result"
    }
   ],
   "source": [
    "P2_q_norm[-1][::-1]"
   ]
  },
  {
   "cell_type": "code",
   "execution_count": 458,
   "id": "7a75167a",
   "metadata": {},
   "outputs": [
    {
     "data": {
      "text/plain": [
       "array([ 8.18122527e-03, -9.86149900e-05, -1.93487073e-01,  2.78192109e-04,\n",
       "        1.59047634e+00,  5.69683749e-03, -5.28341546e+00, -2.81198742e-03,\n",
       "        6.06830775e+00, -4.00957699e-02, -1.17865527e+00])"
      ]
     },
     "execution_count": 458,
     "metadata": {},
     "output_type": "execute_result"
    }
   ],
   "source": [
    "P3_q_norm[-1][::-1]"
   ]
  },
  {
   "cell_type": "code",
   "execution_count": 459,
   "id": "750143a8",
   "metadata": {},
   "outputs": [],
   "source": [
    "def evaluate_aPCE_Ishigami(pce_coef, d, max_deg, x):\n",
    "    \"\"\"\n",
    "    evaluate pce expansion with maximum degree max_deg at the points x\n",
    "    for Black-Scholes\n",
    "    input:\n",
    "    pce_coef: 1d array, the pce coefficients\n",
    "    d: int, the number of parameter\n",
    "    max_deg: int, the maximum degree\n",
    "    x: 2d array, the points where the pce is evaluated. x.shape[1] = 3\n",
    "    return\n",
    "    val: 1d array of the same size as x.shape[0]\n",
    "    \"\"\"\n",
    "    pce_index = multivariate_pce_index(d, max_deg)\n",
    "    val = np.zeros(x.shape[0])\n",
    "    for i in range(pce_index.shape[0]):    \n",
    "        val += pce_coef[i]*\\\n",
    "               Pol_eval(P1_norm[pce_index[i,0],:], x[:,0])*\\\n",
    "               Pol_eval(P2_norm[pce_index[i,1],:],x[:,1])*\\\n",
    "               Pol_eval(P3_norm[pce_index[i,2],:], x[:,2])\n",
    "    return val"
   ]
  },
  {
   "cell_type": "code",
   "execution_count": 464,
   "id": "1465c60c",
   "metadata": {},
   "outputs": [],
   "source": [
    "sample = np.random.uniform(-np.pi,np.pi, size=(1000,3))\n",
    "\n",
    "y_aPCE = evaluate_aPCE_Ishigami(pce_coef, 3, 6, sample)\n",
    "\n",
    "y_true = Ishigami_Function(sample[:,0], sample[:,1], sample[:,2])"
   ]
  },
  {
   "cell_type": "code",
   "execution_count": 465,
   "id": "61c278b5",
   "metadata": {},
   "outputs": [
    {
     "data": {
      "text/plain": [
       "3.377782982185482"
      ]
     },
     "execution_count": 465,
     "metadata": {},
     "output_type": "execute_result"
    }
   ],
   "source": [
    "pce_coef[0]"
   ]
  },
  {
   "cell_type": "code",
   "execution_count": 466,
   "id": "9ee8ac5f",
   "metadata": {},
   "outputs": [
    {
     "data": {
      "text/plain": [
       "3.353399055000965"
      ]
     },
     "execution_count": 466,
     "metadata": {},
     "output_type": "execute_result"
    }
   ],
   "source": [
    "np.mean(y_aPCE)"
   ]
  },
  {
   "cell_type": "code",
   "execution_count": 467,
   "id": "3fe6d5a3",
   "metadata": {},
   "outputs": [
    {
     "data": {
      "text/plain": [
       "3.325114489520717"
      ]
     },
     "execution_count": 467,
     "metadata": {},
     "output_type": "execute_result"
    }
   ],
   "source": [
    "np.mean(y_true)"
   ]
  },
  {
   "cell_type": "code",
   "execution_count": 470,
   "id": "2af7897e",
   "metadata": {},
   "outputs": [
    {
     "data": {
      "text/plain": [
       "0.02828456548024793"
      ]
     },
     "execution_count": 470,
     "metadata": {},
     "output_type": "execute_result"
    }
   ],
   "source": [
    "np.mean((y_aPCE-y_true))"
   ]
  },
  {
   "cell_type": "code",
   "execution_count": 183,
   "id": "89bd9415",
   "metadata": {},
   "outputs": [],
   "source": [
    "import matplotlib.pyplot as plt\n",
    "import seaborn as sns"
   ]
  },
  {
   "cell_type": "code",
   "execution_count": 471,
   "id": "bec8d2ae",
   "metadata": {},
   "outputs": [
    {
     "data": {
      "image/png": "[encoded data removed]",
      "text/plain": [
       "<Figure size 640x480 with 1 Axes>"
      ]
     },
     "metadata": {},
     "output_type": "display_data"
    }
   ],
   "source": [
    "sample = np.random.uniform(-np.pi,np.pi, size=(500,3))\n",
    "\n",
    "y_aPCE = evaluate_aPCE_Ishigami(pce_coef, 3, 6, sample)\n",
    "\n",
    "y_true = Ishigami_Function(sample[:,0], sample[:,1], sample[:,2])\n",
    "\n",
    "plt.plot(y_true, label = 'True')\n",
    "plt.plot(y_aPCE, label = \"pce\")\n",
    "plt.legend();\n"
   ]
  },
  {
   "cell_type": "code",
   "execution_count": 472,
   "id": "faddb178",
   "metadata": {},
   "outputs": [
    {
     "data": {
      "image/png": "[encoded data removed]",
      "text/plain": [
       "<Figure size 640x480 with 1 Axes>"
      ]
     },
     "metadata": {},
     "output_type": "display_data"
    }
   ],
   "source": [
    "#plt.rcParams['figure.figsize'] = (6, 6)\n",
    "sns.kdeplot(y_aPCE, color='b', label='aPCE Quadrature order 6')\n",
    "sns.kdeplot(y_true.reshape(500), color='r', label='Ishigami Function')\n",
    "plt.legend();"
   ]
  },
  {
   "cell_type": "markdown",
   "id": "6912da6b",
   "metadata": {},
   "source": [
    "### PCE on Ishigami function"
   ]
  },
  {
   "cell_type": "code",
   "execution_count": 258,
   "id": "975dc1df",
   "metadata": {},
   "outputs": [],
   "source": [
    "def PCE_Ishigami_Quadrature(d, max_deg, n_quad):\n",
    "    \"\"\"\n",
    "    Compute the pce coefficients of the Ishigami Function\n",
    "    input:\n",
    "    d: int, number of parameters\n",
    "    max_deg: int, the max degree so that individual degrees\n",
    "             are not above it\n",
    "    n_quad: int, number of quadrature points\n",
    "    return:\n",
    "    1d array, PCE coefficients\n",
    "    \"\"\"\n",
    "    pce_index = multivariate_pce_index(d, max_deg)\n",
    "    pce_coef = np.zeros(pce_index.shape[0])\n",
    "    \n",
    "    # quadrature\n",
    "    # Finding the weights for x_1\n",
    "    nodes1 = np.roots(legendre(n_quad))\n",
    "    V = np.zeros((n_quad,n_quad))\n",
    "    for i in range(n_quad):\n",
    "        V[i,:] = nodes1**i\n",
    "    b_cond = np.zeros(n_quad)\n",
    "    for i in range(n_quad):\n",
    "        b_cond[i] = integrate.quad(lambda x: x**i, -1, 1)[0]\n",
    "    w_1 = np.linalg.inv(V)@b_cond\n",
    "    print(nodes1)\n",
    "    print(w_1)\n",
    "    \n",
    "    # Finding the weights for x_2\n",
    "    nodes2 = np.roots(legendre(n_quad))\n",
    "    V = np.zeros((n_quad,n_quad))\n",
    "    for i in range(n_quad):\n",
    "        V[i,:] = nodes2**i\n",
    "    b_cond = np.zeros(n_quad)\n",
    "    for i in range(n_quad):\n",
    "        b_cond[i] = integrate.quad(lambda x: x**i, -1, 1)[0]\n",
    "    w_2 = np.linalg.inv(V)@b_cond\n",
    "    print(nodes2)\n",
    "    \n",
    "    # Finding the weights for x_3\n",
    "    nodes3 = np.roots(legendre(n_quad))\n",
    "    V = np.zeros((n_quad,n_quad))\n",
    "    for i in range(n_quad):\n",
    "        V[i,:] = nodes3**i\n",
    "    b_cond = np.zeros(n_quad)\n",
    "    for i in range(n_quad):\n",
    "        b_cond[i] = integrate.quad(lambda x: x**i, -1, 1)[0]\n",
    "    w_3 = np.linalg.inv(V)@b_cond\n",
    "    print(nodes3)\n",
    "    print(legendre(n_quad))\n",
    "        \n",
    "    # the index is for computing the quadrature\n",
    "    quad_index = multivariate_pce_index(3, n_quad-1)\n",
    "        \n",
    "    for i in range(pce_coef.size):\n",
    "        for j in range(quad_index.shape[0]):\n",
    "            pce_coef[i] += Ishigami_Function(np.pi*nodes1[quad_index[j,0]],\n",
    "                                         np.pi*nodes2[quad_index[j,1]],\n",
    "                                         np.pi*nodes3[quad_index[j,2]])*\\\n",
    "            w_1[quad_index[j,0]]*w_2[quad_index[j,1]]*w_3[quad_index[j,2]]*\\\n",
    "            legendre(pce_index[i,0])(nodes1[quad_index[j,0]])*\\\n",
    "            legendre(pce_index[i,1])(nodes2[quad_index[j,1]])*\\\n",
    "            legendre(pce_index[i,2])(nodes3[quad_index[j,2]])\n",
    "        pce_coef[i] /= 2/(2*pce_index[i,0]+1)\n",
    "        pce_coef[i] /= 2/(2*pce_index[i,1]+1)\n",
    "        pce_coef[i] /= 2/(2*pce_index[i,2]+1)\n",
    "\n",
    "    return pce_coef"
   ]
  },
  {
   "cell_type": "code",
   "execution_count": 375,
   "id": "b9eb69e0",
   "metadata": {},
   "outputs": [],
   "source": [
    "def PCE_Ishigami_Quadrature(d, max_deg, n_quad):\n",
    "    \"\"\"\n",
    "    Compute the pce coefficients of the Ishigami Function\n",
    "    input:\n",
    "    d: int, number of parameters\n",
    "    max_deg: int, the max degree so that individual degrees\n",
    "             are not above it\n",
    "    n_quad: int, number of quadrature points\n",
    "    return:\n",
    "    1d array, PCE coefficients\n",
    "    \"\"\"\n",
    "    pce_index = multivariate_pce_index(d, max_deg)\n",
    "    pce_coef = np.zeros(pce_index.shape[0])\n",
    "    \n",
    "    # quadrature\n",
    "    # Finding the weights for x_1\n",
    "    nodes1 = roots_legendre(n_quad)[0]\n",
    "    w_1 = roots_legendre(n_quad)[1]\n",
    "    \n",
    "    # Finding the weights for x_2\n",
    "    nodes2 = roots_legendre(n_quad)[0]\n",
    "    w_2 = roots_legendre(n_quad)[1]\n",
    "    \n",
    "    # Finding the weights for x_3\n",
    "    nodes3 = roots_legendre(n_quad)[0]\n",
    "    w_3 = roots_legendre(n_quad)[1]\n",
    "        \n",
    "    # the index is for computing the quadrature\n",
    "    quad_index = multivariate_pce_index(3, n_quad-1)\n",
    "\n",
    "    for i in range(pce_coef.size):\n",
    "        for j in range(quad_index.shape[0]):\n",
    "            pce_coef[i] += Ishigami_Function(np.pi*nodes1[quad_index[j,0]],\n",
    "                                         np.pi*nodes2[quad_index[j,1]],\n",
    "                                         np.pi*nodes3[quad_index[j,2]])*\\\n",
    "            w_1[quad_index[j,0]]*w_2[quad_index[j,1]]*w_3[quad_index[j,2]]*\\\n",
    "            legendre(pce_index[i,0])(nodes1[quad_index[j,0]])*\\\n",
    "            legendre(pce_index[i,1])(nodes2[quad_index[j,1]])*\\\n",
    "            legendre(pce_index[i,2])(nodes3[quad_index[j,2]])\n",
    "        pce_coef[i] /= 2/(2*pce_index[i,0]+1)\n",
    "        pce_coef[i] /= 2/(2*pce_index[i,1]+1)\n",
    "        pce_coef[i] /= 2/(2*pce_index[i,2]+1)\n",
    "\n",
    "    return pce_coef"
   ]
  },
  {
   "cell_type": "code",
   "execution_count": null,
   "id": "740e0458",
   "metadata": {},
   "outputs": [],
   "source": [
    "    for i in range(pce_coef.size):\n",
    "        for j in range(quad_index.shape[0]):\n",
    "            pce_coef[i] += Ishigami_Function(np.pi*nodes1[quad_index[j,0]],\n",
    "                                         np.pi*nodes2[quad_index[j,1]],\n",
    "                                         np.pi*nodes3[quad_index[j,2]])*\\\n",
    "            w_1[quad_index[j,0]]*w_2[quad_index[j,1]]*w_3[quad_index[j,2]]*\\\n",
    "            legendre(pce_index[i,0])(nodes1[quad_index[j,0]])*\\\n",
    "            legendre(pce_index[i,1])(nodes2[quad_index[j,1]])*\\\n",
    "            legendre(pce_index[i,2])(nodes3[quad_index[j,2]])\n",
    "        pce_coef[i] /= 2/(2*pce_index[i,0]+1)\n",
    "        pce_coef[i] /= 2/(2*pce_index[i,1]+1)\n",
    "        pce_coef[i] /= 2/(2*pce_index[i,2]+1)"
   ]
  },
  {
   "cell_type": "code",
   "execution_count": 320,
   "id": "541d20b8",
   "metadata": {},
   "outputs": [
    {
     "ename": "NameError",
     "evalue": "name 'w_1' is not defined",
     "output_type": "error",
     "traceback": [
      "\u001b[0;31m---------------------------------------------------------------------------\u001b[0m",
      "\u001b[0;31mNameError\u001b[0m                                 Traceback (most recent call last)",
      "Cell \u001b[0;32mIn[320], line 5\u001b[0m\n\u001b[1;32m      3\u001b[0m     \u001b[38;5;28;01mfor\u001b[39;00m k \u001b[38;5;129;01min\u001b[39;00m \u001b[38;5;28mrange\u001b[39m(n_quad):\n\u001b[1;32m      4\u001b[0m         \u001b[38;5;28;01mfor\u001b[39;00m r \u001b[38;5;129;01min\u001b[39;00m \u001b[38;5;28mrange\u001b[39m(n_quad):\n\u001b[0;32m----> 5\u001b[0m             pce_coef[i] \u001b[38;5;241m+\u001b[39m\u001b[38;5;241m=\u001b[39m w_1[j]\u001b[38;5;241m*\u001b[39mw_2[k]\u001b[38;5;241m*\u001b[39mw_3[r]\u001b[38;5;241m*\u001b[39m\\\n\u001b[1;32m      6\u001b[0m                            Ishigami_Function(nodes1[j], \n\u001b[1;32m      7\u001b[0m                                              nodes2[k], \n\u001b[1;32m      8\u001b[0m                                              nodes3[r])\\\n\u001b[1;32m      9\u001b[0m             \u001b[38;5;241m*\u001b[39mlegendre(pce_index[i][\u001b[38;5;241m0\u001b[39m])(nodes1[j]) \\\n\u001b[1;32m     10\u001b[0m             \u001b[38;5;241m*\u001b[39mlegendre(pce_index[i][\u001b[38;5;241m1\u001b[39m])(nodes2[k]) \\\n\u001b[1;32m     11\u001b[0m             \u001b[38;5;241m*\u001b[39mlegendre(pce_index[i][\u001b[38;5;241m2\u001b[39m])(nodes3[r])\n\u001b[1;32m     12\u001b[0m pce_coef[i] \u001b[38;5;241m/\u001b[39m\u001b[38;5;241m=\u001b[39m \u001b[38;5;241m2\u001b[39m\u001b[38;5;241m/\u001b[39m(\u001b[38;5;241m2\u001b[39m\u001b[38;5;241m*\u001b[39mpce_index[i,\u001b[38;5;241m0\u001b[39m]\u001b[38;5;241m+\u001b[39m\u001b[38;5;241m1\u001b[39m)\n\u001b[1;32m     13\u001b[0m pce_coef[i] \u001b[38;5;241m/\u001b[39m\u001b[38;5;241m=\u001b[39m \u001b[38;5;241m2\u001b[39m\u001b[38;5;241m/\u001b[39m(\u001b[38;5;241m2\u001b[39m\u001b[38;5;241m*\u001b[39mpce_index[i,\u001b[38;5;241m1\u001b[39m]\u001b[38;5;241m+\u001b[39m\u001b[38;5;241m1\u001b[39m)\n",
      "\u001b[0;31mNameError\u001b[0m: name 'w_1' is not defined"
     ]
    }
   ],
   "source": [
    "    for i in range(pce_coef.size):\n",
    "        for j in range(n_quad):\n",
    "            for k in range(n_quad):\n",
    "                for r in range(n_quad):\n",
    "                    pce_coef[i] += w_1[j]*w_2[k]*w_3[r]*\\\n",
    "                                   Ishigami_Function(np.pi*nodes1[j], \n",
    "                                                     np.pi*nodes2[k], \n",
    "                                                     np.pi*nodes3[r])\\\n",
    "                    *legendre(pce_index[i][0])(nodes1[j]) \\\n",
    "                    *legendre(pce_index[i][1])(nodes2[k]) \\\n",
    "                    *legendre(pce_index[i][2])(nodes3[r])\n",
    "        pce_coef[i] /= 2/(2*pce_index[i,0]+1)\n",
    "        pce_coef[i] /= 2/(2*pce_index[i,1]+1)\n",
    "        pce_coef[i] /= 2/(2*pce_index[i,2]+1)"
   ]
  },
  {
   "cell_type": "code",
   "execution_count": 376,
   "id": "32a73324",
   "metadata": {},
   "outputs": [],
   "source": [
    "pce_coef = PCE_Ishigami_Quadrature(3, 6, 10)"
   ]
  },
  {
   "cell_type": "code",
   "execution_count": 377,
   "id": "cb0cf714",
   "metadata": {},
   "outputs": [],
   "source": [
    "from scipy.special import roots_legendre"
   ]
  },
  {
   "cell_type": "code",
   "execution_count": 378,
   "id": "0f28f2bb",
   "metadata": {},
   "outputs": [
    {
     "data": {
      "text/plain": [
       "(array([-0.97390653, -0.86506337, -0.67940957, -0.43339539, -0.14887434,\n",
       "         0.14887434,  0.43339539,  0.67940957,  0.86506337,  0.97390653]),\n",
       " array([0.06667134, 0.14945135, 0.21908636, 0.26926672, 0.29552422,\n",
       "        0.29552422, 0.26926672, 0.21908636, 0.14945135, 0.06667134]))"
      ]
     },
     "execution_count": 378,
     "metadata": {},
     "output_type": "execute_result"
    }
   ],
   "source": [
    "roots_legendre(10)"
   ]
  },
  {
   "cell_type": "code",
   "execution_count": 379,
   "id": "076ed12a",
   "metadata": {},
   "outputs": [],
   "source": [
    "def evaluate_PCE_Ishigami(pce_coef, d, max_deg, x):\n",
    "    \"\"\"\n",
    "    evaluate pce expansion with maximum degree max_deg at the points x\n",
    "    for Black-Scholes\n",
    "    input:\n",
    "    pce_coef: 1d array, the pce coefficients\n",
    "    d: int, the number of parameter\n",
    "    max_deg: int, the maximum degree\n",
    "    x: 2d array, the points where the pce is evaluated. x.shape[1] = 3\n",
    "    return\n",
    "    val: 1d array of the same size as x.shape[0]\n",
    "    \"\"\"\n",
    "    pce_index = multivariate_pce_index(d, max_deg)\n",
    "    val = np.zeros(x.shape[0])\n",
    "    for i in range(pce_index.shape[0]):    \n",
    "        val += pce_coef[i]*\\\n",
    "                     legendre(pce_index[i][0])(x[:,0])* \\\n",
    "                     legendre(pce_index[i][1])(x[:,1])* \\\n",
    "                     legendre(pce_index[i][2])(x[:,2])\n",
    "    return val"
   ]
  },
  {
   "cell_type": "code",
   "execution_count": 380,
   "id": "d6aaed37",
   "metadata": {},
   "outputs": [],
   "source": [
    "y_PCE = evaluate_PCE_Ishigami(pce_coef, 3, p, sample/np.pi)"
   ]
  },
  {
   "cell_type": "code",
   "execution_count": 381,
   "id": "6de5ac9b",
   "metadata": {},
   "outputs": [
    {
     "data": {
      "text/plain": [
       "0.34753982258060995"
      ]
     },
     "execution_count": 381,
     "metadata": {},
     "output_type": "execute_result"
    }
   ],
   "source": [
    "np.mean(y_PCE)"
   ]
  },
  {
   "cell_type": "code",
   "execution_count": 359,
   "id": "df92350e",
   "metadata": {},
   "outputs": [
    {
     "data": {
      "text/plain": [
       "3.5846618049743637"
      ]
     },
     "execution_count": 359,
     "metadata": {},
     "output_type": "execute_result"
    }
   ],
   "source": [
    "np.mean(y_true)"
   ]
  },
  {
   "cell_type": "code",
   "execution_count": 361,
   "id": "4edc8624",
   "metadata": {},
   "outputs": [
    {
     "data": {
      "image/png": "[encoded data removed]",
      "text/plain": [
       "<Figure size 640x480 with 1 Axes>"
      ]
     },
     "metadata": {},
     "output_type": "display_data"
    }
   ],
   "source": [
    "plt.plot(y_true, label = 'True')\n",
    "plt.plot(y_PCE, label = \"pce\")\n",
    "plt.legend();"
   ]
  },
  {
   "cell_type": "code",
   "execution_count": 362,
   "id": "c0c28b55",
   "metadata": {},
   "outputs": [
    {
     "data": {
      "image/png": "[encoded data removed]",
      "text/plain": [
       "<Figure size 640x480 with 1 Axes>"
      ]
     },
     "metadata": {},
     "output_type": "display_data"
    }
   ],
   "source": [
    "#plt.rcParams['figure.figsize'] = (6, 6)\n",
    "sns.kdeplot(y_aPCE, color='b', label='aPCE Quadrature order 6')\n",
    "sns.kdeplot(y_PCE, color='g', label='PCE Quadrature order 6')\n",
    "sns.kdeplot(y_true.reshape(N), color='r', label='Ishigami Function')\n",
    "plt.legend();"
   ]
  },
  {
   "cell_type": "code",
   "execution_count": 153,
   "id": "265450e8",
   "metadata": {},
   "outputs": [
    {
     "data": {
      "text/plain": [
       "(500,)"
      ]
     },
     "execution_count": 153,
     "metadata": {},
     "output_type": "execute_result"
    }
   ],
   "source": [
    "(y_true.reshape(N)).shape"
   ]
  },
  {
   "cell_type": "code",
   "execution_count": null,
   "id": "9a1418b5",
   "metadata": {},
   "outputs": [],
   "source": []
  },
  {
   "cell_type": "markdown",
   "id": "844833fa",
   "metadata": {},
   "source": [
    "### Using LR"
   ]
  },
  {
   "cell_type": "code",
   "execution_count": 122,
   "id": "e965be13",
   "metadata": {},
   "outputs": [],
   "source": [
    "index = multivariate_pce_index(3, p)\n",
    "Phi = np.zeros((N, n))\n",
    "\n",
    "for i in range(n):\n",
    "    Phi[:,i] =  Pol_eval(P1_norm[index[i][0],:], x_1) \\\n",
    "               *Pol_eval(P2_norm[index[i][1],:], x_2) \\\n",
    "               *Pol_eval(P3_norm[index[i][2],:], x_3)\n",
    "    \n",
    "model = LinearRegression(fit_intercept = False).fit(Phi, Y)"
   ]
  },
  {
   "cell_type": "code",
   "execution_count": 123,
   "id": "94e92120",
   "metadata": {},
   "outputs": [],
   "source": [
    "model = LinearRegression(fit_intercept = False).fit(Phi, Y)"
   ]
  },
  {
   "cell_type": "code",
   "execution_count": 124,
   "id": "341fe642",
   "metadata": {},
   "outputs": [
    {
     "data": {
      "text/plain": [
       "3.4753114674428"
      ]
     },
     "execution_count": 124,
     "metadata": {},
     "output_type": "execute_result"
    }
   ],
   "source": [
    "np.mean(Phi@model.coef_.transpose())"
   ]
  },
  {
   "cell_type": "code",
   "execution_count": 125,
   "id": "3b0bf06f",
   "metadata": {},
   "outputs": [],
   "source": [
    "Y_pce = Phi@model.coef_.transpose()"
   ]
  },
  {
   "cell_type": "code",
   "execution_count": 126,
   "id": "7da0812d",
   "metadata": {},
   "outputs": [
    {
     "data": {
      "image/png": "[encoded data removed]",
      "text/plain": [
       "<Figure size 640x480 with 1 Axes>"
      ]
     },
     "metadata": {},
     "output_type": "display_data"
    }
   ],
   "source": [
    "#plt.rcParams['figure.figsize'] = (6, 6)\n",
    "sns.kdeplot(Y_pce.reshape(N), color = 'r', label='PCE Quadrature order 6')\n",
    "sns.kdeplot(Y.reshape(N), color = 'b', label='Ishigami Function')\n",
    "plt.legend()\n",
    "plt.xlabel('Y')\n",
    "plt.ylabel('density');"
   ]
  },
  {
   "cell_type": "markdown",
   "id": "d5b8ee5b",
   "metadata": {},
   "source": [
    "## Making one Function to Calculate any Degree n"
   ]
  },
  {
   "cell_type": "code",
   "execution_count": 26,
   "id": "4fc8a3de",
   "metadata": {},
   "outputs": [],
   "source": [
    "## Checking Polynomials we created are orthogonal\n",
    "def Pol_eval(coeff, x):\n",
    "    deg = coeff.shape[0]\n",
    "    val = 0\n",
    "    for i in range(deg):\n",
    "        val += coeff[i]*x**i\n",
    "        \n",
    "    return val\n",
    "\n",
    "def Int_eval(coeff1, coeff2, dat):\n",
    "    s = np.mean(Pol_eval(coeff1, dat)*Pol_eval(coeff2, dat))\n",
    "    return s"
   ]
  },
  {
   "cell_type": "code",
   "execution_count": 27,
   "id": "168960df",
   "metadata": {},
   "outputs": [],
   "source": [
    "def aPCE(p, dat):\n",
    "    n = int(math.factorial(d + p)/(math.factorial(d)*math.factorial(p)))\n",
    "\n",
    "    #### Calculating the Orthogonal Polynomials\n",
    "    P = np.zeros((p+1, p+1))\n",
    "\n",
    "    P[0,0] = 1\n",
    "\n",
    "    mu = np.zeros(2*p) \n",
    "    for i in range(2*p): \n",
    "        mu[i] = np.mean(dat**i)\n",
    "\n",
    "    mu_mat = np.zeros((p, p+1))\n",
    "    for i in range(p):\n",
    "        mu_mat[i,:] = mu[i:(p+1+i)]\n",
    "\n",
    "    for i in range(1,p+1):\n",
    "        A = np.zeros((i+1, i+1))\n",
    "        A[-1,-1] = 1\n",
    "        A[0:i,:] = mu_mat[0:i, 0:i+1]\n",
    "        b = A[-1]\n",
    "        a = np.zeros(p+1)\n",
    "        a[0:i+1] = np.linalg.inv(A)@b\n",
    "        P[i, :] = a.transpose()\n",
    "    \n",
    "    P_norm = np.zeros((p+1, p+1))\n",
    "    for i in range(p+1):\n",
    "        P_norm[i,:] = P[i,:]/np.sqrt(Int_eval(P[i,:], P[i,:], dat))\n",
    "    \n",
    "    # Finding the weights for c_i\n",
    "    nodes = np.roots(P_norm[-1][::-1])\n",
    "    V = np.zeros((p,p))\n",
    "    for i in range(p):\n",
    "        V[i,:] = nodes**i\n",
    "    b_cond = np.zeros(p)\n",
    "    for i in range(p):\n",
    "        b_cond[i] = np.mean(dat**i)\n",
    "    w_s = np.linalg.inv(V)@b_cond\n",
    "\n",
    "    c = np.zeros(p+1)\n",
    "    for i in range(p+1):\n",
    "        c[i] = np.dot(w_s, np.exp(-nodes)*Pol_eval(P_norm[i,:], nodes))\n",
    "        \n",
    "    r = 0\n",
    "    for i in range(n):\n",
    "        r += c[i]*Pol_eval(P_norm[i,:], dat)\n",
    "    return r"
   ]
  },
  {
   "cell_type": "code",
   "execution_count": 52,
   "id": "e4e5a4cb",
   "metadata": {},
   "outputs": [],
   "source": [
    "def aPCE_LR(p, dat):\n",
    "    n = int(math.factorial(d + p)/(math.factorial(d)*math.factorial(p)))\n",
    "\n",
    "    #### Calculating the Orthogonal Polynomials\n",
    "    P = np.zeros((p+1, p+1))\n",
    "\n",
    "    P[0,0] = 1\n",
    "\n",
    "    mu = np.zeros(2*p) \n",
    "    for i in range(2*p): \n",
    "        mu[i] = np.mean(dat**i)\n",
    "\n",
    "    mu_mat = np.zeros((p, p+1))\n",
    "    for i in range(p):\n",
    "        mu_mat[i,:] = mu[i:(p+1+i)]\n",
    "\n",
    "    for i in range(1,p+1):\n",
    "        A = np.zeros((i+1, i+1))\n",
    "        A[-1,-1] = 1\n",
    "        A[0:i,:] = mu_mat[0:i, 0:i+1]\n",
    "        b = A[-1]\n",
    "        a = np.zeros(p+1)\n",
    "        a[0:i+1] = np.linalg.inv(A)@b\n",
    "        P[i, :] = a.transpose()\n",
    "    \n",
    "    P_norm = np.zeros((p+1, p+1))\n",
    "    for i in range(p+1):\n",
    "        P_norm[i,:] = P[i,:]/np.sqrt(Int_eval(P[i,:], P[i,:], dat))\n",
    "    \n",
    "    # Finding the weights for c_i\n",
    "    Phi = np.zeros((N, n))\n",
    "\n",
    "    for i in range(n):\n",
    "        Phi[:,i] =  Pol_eval(P_norm[i,:], dat)\n",
    "    print(Phi.shape)\n",
    "\n",
    "    model = LinearRegression(fit_intercept = False).fit(Phi, np.exp(-dat))\n",
    "    return Phi@np.c_[model.coef_]"
   ]
  },
  {
   "cell_type": "markdown",
   "id": "4a0c7e3b",
   "metadata": {},
   "source": [
    "## Solutions"
   ]
  },
  {
   "cell_type": "code",
   "execution_count": 56,
   "id": "559a0eb5",
   "metadata": {},
   "outputs": [],
   "source": [
    "aPCE_mean = np.zeros(6)\n",
    "PCE_mean = np.zeros(6)\n",
    "aPCE_var = np.zeros(6)\n",
    "PCE_var = np.zeros(6)\n",
    "\n",
    "for i in range(1,7):\n",
    "    aPCE_mean[i-1] = np.mean(aPCE(i , dat))\n",
    "    PCE_mean[i-1] = np.mean(PCE(i, dat))\n",
    "    aPCE_var[i-1] = np.var(aPCE(i, dat))\n",
    "    PCE_var[i-1] = np.var(PCE(i, dat))"
   ]
  },
  {
   "cell_type": "code",
   "execution_count": 57,
   "id": "638a94b3",
   "metadata": {},
   "outputs": [],
   "source": [
    "err_aPCE = np.abs(aPCE_mean-y_mc)/np.abs(y_mc)\n",
    "err_PCE = np.abs(PCE_mean-y_mc)/np.abs(y_mc)\n",
    "\n",
    "err_aPCE_var = np.abs(aPCE_var-y_mc_var)/np.abs(y_mc_var)\n",
    "err_PCE_var = np.abs(PCE_var-y_mc_var)/np.abs(y_mc_var)"
   ]
  },
  {
   "cell_type": "code",
   "execution_count": 58,
   "id": "241fc586",
   "metadata": {},
   "outputs": [
    {
     "data": {
      "text/plain": [
       "array([0.13391747, 0.17949712, 0.18446302, 0.18476028, 0.18477074,\n",
       "       0.18477096])"
      ]
     },
     "execution_count": 58,
     "metadata": {},
     "output_type": "execute_result"
    }
   ],
   "source": [
    "aPCE_mean"
   ]
  },
  {
   "cell_type": "code",
   "execution_count": 59,
   "id": "5cee0084",
   "metadata": {},
   "outputs": [
    {
     "data": {
      "text/plain": [
       "0.17761563760791596"
      ]
     },
     "execution_count": 59,
     "metadata": {},
     "output_type": "execute_result"
    }
   ],
   "source": [
    "y_mc"
   ]
  },
  {
   "cell_type": "code",
   "execution_count": 60,
   "id": "ae20f700",
   "metadata": {},
   "outputs": [
    {
     "data": {
      "text/plain": [
       "array([0.20020131, 0.20020131, 0.18053077, 0.18405871, 0.18468611,\n",
       "       0.18486346])"
      ]
     },
     "execution_count": 60,
     "metadata": {},
     "output_type": "execute_result"
    }
   ],
   "source": [
    "PCE_mean"
   ]
  },
  {
   "cell_type": "code",
   "execution_count": 61,
   "id": "725fc221",
   "metadata": {},
   "outputs": [
    {
     "data": {
      "text/plain": [
       "<matplotlib.legend.Legend at 0x176ee3d50>"
      ]
     },
     "execution_count": 61,
     "metadata": {},
     "output_type": "execute_result"
    },
    {
     "data": {
      "image/png": "[encoded data removed]",
      "text/plain": [
       "<Figure size 640x480 with 1 Axes>"
      ]
     },
     "metadata": {},
     "output_type": "display_data"
    }
   ],
   "source": [
    "plt.plot(range(1,7), err_aPCE, label = \"aPCE\")\n",
    "plt.plot(range(1,7), err_PCE, label = \"PCE\")\n",
    "#plt.ylim(0, 10**(-1))\n",
    "plt.legend()"
   ]
  },
  {
   "cell_type": "code",
   "execution_count": 62,
   "id": "8a93389d",
   "metadata": {},
   "outputs": [
    {
     "data": {
      "text/plain": [
       "<matplotlib.legend.Legend at 0x17790ba90>"
      ]
     },
     "execution_count": 62,
     "metadata": {},
     "output_type": "execute_result"
    },
    {
     "data": {
      "image/png": "[encoded data removed]",
      "text/plain": [
       "<Figure size 640x480 with 1 Axes>"
      ]
     },
     "metadata": {},
     "output_type": "display_data"
    }
   ],
   "source": [
    "plt.plot(range(1,7), err_aPCE_var, label = \"aPCE\")\n",
    "plt.plot(range(1,7), err_PCE_var, label = \"PCE\")\n",
    "#plt.ylim(0, 10**(-1))\n",
    "plt.legend()"
   ]
  },
  {
   "cell_type": "code",
   "execution_count": null,
   "id": "3a9bc7f1",
   "metadata": {},
   "outputs": [],
   "source": []
  }
 ],
 "metadata": {
  "@webio": {
   "lastCommId": null,
   "lastKernelId": null
  },
  "kernelspec": {
   "display_name": "Python 3 (ipykernel)",
   "language": "python",
   "name": "python3"
  },
  "language_info": {
   "codemirror_mode": {
    "name": "ipython",
    "version": 3
   },
   "file_extension": ".py",
   "mimetype": "text/x-python",
   "name": "python",
   "nbconvert_exporter": "python",
   "pygments_lexer": "ipython3",
   "version": "3.11.3"
  }
 },
 "nbformat": 4,
 "nbformat_minor": 5
}
